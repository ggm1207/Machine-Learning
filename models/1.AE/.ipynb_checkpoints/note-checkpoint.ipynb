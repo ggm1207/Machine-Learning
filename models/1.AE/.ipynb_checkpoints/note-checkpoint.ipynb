{
 "cells": [
  {
   "cell_type": "code",
   "execution_count": 4,
   "metadata": {},
   "outputs": [
    {
     "data": {
      "text/html": [
       "<style>.container { width:100% !important; }</style>"
      ],
      "text/plain": [
       "<IPython.core.display.HTML object>"
      ]
     },
     "metadata": {},
     "output_type": "display_data"
    }
   ],
   "source": [
    "from IPython.core.display import display, HTML\n",
    "display(HTML(\"<style>.container { width:100% !important; }</style>\"))"
   ]
  },
  {
   "cell_type": "markdown",
   "metadata": {},
   "source": [
    "# data.py"
   ]
  },
  {
   "cell_type": "code",
   "execution_count": 1,
   "metadata": {},
   "outputs": [],
   "source": [
    "import tensorflow as tf\n",
    "from tensorflow.keras import datasets\n",
    "\n",
    "BATCH_SIZE = 64\n",
    "SHUFFLE_BUFFER_SIZE = 1000\n",
    "\n",
    "def load_mnist(flatten=True) -> (tf.data.Dataset, tf.data.Dataset):\n",
    "    \"\"\" return train_ds, test_ds \"\"\"\n",
    "    (train_images, train_labels), (test_images, test_labels) = datasets.mnist.load_data()\n",
    "    \n",
    "    if flatten:\n",
    "        train_images = train_images.reshape((60000, 28 * 28))\n",
    "        test_images = test_images.reshape((10000, 28 * 28))\n",
    "    else:\n",
    "        train_images = train_images.reshape((60000, 28, 28, 1))\n",
    "        test_images = test_images.reshape((10000, 28, 28, 1))\n",
    "    \n",
    "    train_ds = tf.data.Dataset.from_tensor_slices((train_images, train_labels))\n",
    "    test_ds = tf.data.Dataset.from_tensor_slices((test_images, test_labels))\n",
    "    \n",
    "    train_ds = train_ds.shuffle(SHUFFLE_BUFFER_SIZE).batch(BATCH_SIZE)\n",
    "    test_ds = test_ds.batch(BATCH_SIZE)\n",
    "    \n",
    "    return train_ds, test_ds"
   ]
  },
  {
   "cell_type": "code",
   "execution_count": 2,
   "metadata": {},
   "outputs": [
    {
     "name": "stdout",
     "output_type": "stream",
     "text": [
      "Downloading data from https://storage.googleapis.com/tensorflow/tf-keras-datasets/mnist.npz\n",
      "11493376/11490434 [==============================] - 0s 0us/step\n"
     ]
    }
   ],
   "source": [
    "train_ds, test_ds = load_mnist(flatten=True)"
   ]
  },
  {
   "cell_type": "code",
   "execution_count": 3,
   "metadata": {
    "scrolled": true
   },
   "outputs": [
    {
     "data": {
      "text/plain": [
       "(<tf.Tensor: shape=(64, 784), dtype=uint8, numpy=\n",
       " array([[0, 0, 0, ..., 0, 0, 0],\n",
       "        [0, 0, 0, ..., 0, 0, 0],\n",
       "        [0, 0, 0, ..., 0, 0, 0],\n",
       "        ...,\n",
       "        [0, 0, 0, ..., 0, 0, 0],\n",
       "        [0, 0, 0, ..., 0, 0, 0],\n",
       "        [0, 0, 0, ..., 0, 0, 0]], dtype=uint8)>,\n",
       " <tf.Tensor: shape=(64,), dtype=uint8, numpy=\n",
       " array([0, 8, 0, 6, 8, 7, 6, 1, 9, 5, 1, 1, 3, 2, 3, 2, 4, 0, 3, 8, 9, 5,\n",
       "        7, 7, 9, 2, 0, 8, 1, 2, 6, 8, 8, 4, 8, 8, 0, 4, 0, 5, 7, 4, 5, 9,\n",
       "        2, 0, 5, 6, 5, 5, 5, 6, 3, 8, 3, 7, 5, 6, 1, 8, 7, 1, 9, 6],\n",
       "       dtype=uint8)>)"
      ]
     },
     "execution_count": 3,
     "metadata": {},
     "output_type": "execute_result"
    }
   ],
   "source": [
    "next(iter(train_ds.take(1)))"
   ]
  },
  {
   "cell_type": "markdown",
   "metadata": {},
   "source": [
    "# AE.py"
   ]
  },
  {
   "cell_type": "code",
   "execution_count": 6,
   "metadata": {},
   "outputs": [
    {
     "name": "stdout",
     "output_type": "stream",
     "text": [
      "/tf/tensorflow/models/1.AE\n",
      "/tf/tensorflow/models/1.AE/weights/AE-stacked\n"
     ]
    }
   ],
   "source": [
    "import os\n",
    "\n",
    "print(os.path.abspath(\".\"))\n",
    "cur_dir = os.path.abspath(\".\")\n",
    "name = \"AE-stacked\"\n",
    "print(os.path.join(cur_dir, f\"weights/{name}.tf\"))\n"
   ]
  },
  {
   "cell_type": "code",
   "execution_count": 8,
   "metadata": {},
   "outputs": [],
   "source": [
    "import os\n",
    "import tensorflow as tf\n",
    "\n",
    "cur_dir = os.path.abspath(\".\")\n",
    "\n",
    "class AE(tf.keras.Model):\n",
    "    def __init__(self, name):\n",
    "        super(AE, self).__init__(name=name)\n",
    "        self.cur_dir = os.path.abspath(\".\")\n",
    "        self.filepath = os.path.join(cur_dir, f\"weights/{name}.tf\")\n",
    "        \n",
    "    def save_weight(self):\n",
    "        try:\n",
    "            self.save_weights(self.filepath, overwrite=True,save_format=\"tf\")\n",
    "        except ImportError as e:\n",
    "            print(\"h5py is not available and the weight file is in HDF5 format.\", e, sep='\\n')\n",
    "    \n",
    "    def load_weight(self):\n",
    "        self.load_weights(self.filepath, by_name=False)"
   ]
  },
  {
   "cell_type": "markdown",
   "metadata": {},
   "source": [
    "# AE-undercomplete.py"
   ]
  },
  {
   "cell_type": "code",
   "execution_count": null,
   "metadata": {},
   "outputs": [],
   "source": [
    "n_inputs = 784\n",
    "n_hidden = 100\n",
    "n_outputs = n_inputs\n",
    "\n",
    "class AE_UC(AE):\n",
    "    def __init__(self):\n",
    "        super().__init__(\"AE-undercomplete\")\n",
    "        \n",
    "        self.hidden = tf.keras.layers.Dense(n_hidden)\n",
    "        self.outputs = tf.keras.layers.Dense(n_outputs)\n",
    "        \n",
    "    def call(self, x):\n",
    "        x = self.hidden(x)\n",
    "        return self.outputs(x)"
   ]
  },
  {
   "cell_type": "markdown",
   "metadata": {},
   "source": [
    "# train.py"
   ]
  },
  {
   "cell_type": "code",
   "execution_count": null,
   "metadata": {},
   "outputs": [],
   "source": [
    "for model_class in AE.__subclasses__"
   ]
  },
  {
   "cell_type": "code",
   "execution_count": 19,
   "metadata": {},
   "outputs": [],
   "source": [
    "ae_uc = AE.__subclasses__()[0]()"
   ]
  },
  {
   "cell_type": "code",
   "execution_count": 20,
   "metadata": {},
   "outputs": [
    {
     "data": {
      "text/plain": [
       "'AE-undercomplete'"
      ]
     },
     "execution_count": 20,
     "metadata": {},
     "output_type": "execute_result"
    }
   ],
   "source": [
    "ae_uc.name"
   ]
  },
  {
   "cell_type": "code",
   "execution_count": null,
   "metadata": {},
   "outputs": [],
   "source": []
  }
 ],
 "metadata": {
  "kernelspec": {
   "display_name": "Python 3",
   "language": "python",
   "name": "python3"
  },
  "language_info": {
   "codemirror_mode": {
    "name": "ipython",
    "version": 3
   },
   "file_extension": ".py",
   "mimetype": "text/x-python",
   "name": "python",
   "nbconvert_exporter": "python",
   "pygments_lexer": "ipython3",
   "version": "3.6.9"
  }
 },
 "nbformat": 4,
 "nbformat_minor": 2
}
