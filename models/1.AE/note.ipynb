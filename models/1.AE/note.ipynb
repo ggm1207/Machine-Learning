{
 "cells": [
  {
   "cell_type": "code",
   "execution_count": 4,
   "metadata": {},
   "outputs": [
    {
     "data": {
      "text/html": [
       "<style>.container { width:100% !important; }</style>"
      ],
      "text/plain": [
       "<IPython.core.display.HTML object>"
      ]
     },
     "metadata": {},
     "output_type": "display_data"
    }
   ],
   "source": [
    "from IPython.core.display import display, HTML\n",
    "display(HTML(\"<style>.container { width:100% !important; }</style>\"))"
   ]
  },
  {
   "cell_type": "markdown",
   "metadata": {},
   "source": [
    "# data.py"
   ]
  },
  {
   "cell_type": "code",
   "execution_count": 28,
   "metadata": {},
   "outputs": [],
   "source": [
    "import tensorflow as tf\n",
    "from tensorflow.keras import datasets\n",
    "\n",
    "BATCH_SIZE = 64\n",
    "SHUFFLE_BUFFER_SIZE = 1000\n",
    "\n",
    "def normalization(images, labels):\n",
    "    images = images / 255\n",
    "    return images, labels\n",
    "\n",
    "def load_mnist(flatten=True) -> (tf.data.Dataset, tf.data.Dataset):\n",
    "    \"\"\" return train_ds, test_ds \"\"\"\n",
    "    (train_images, train_labels), (test_images, test_labels) = datasets.mnist.load_data()\n",
    "    \n",
    "    if flatten:\n",
    "        train_images = train_images.reshape((60000, 28 * 28))\n",
    "    else:\n",
    "        train_images = train_images.reshape((60000, 28, 28, 1))\n",
    "    \n",
    "    train_ds = tf.data.Dataset.from_tensor_slices((train_images, train_labels))\n",
    "    test_ds = tf.data.Dataset.from_tensor_slices((test_images, test_labels))\n",
    "    \n",
    "    train_ds = train_ds.map(normalization).shuffle(SHUFFLE_BUFFER_SIZE).batch(BATCH_SIZE)\n",
    "    test_ds = test_ds.map(normalization).batch(BATCH_SIZE)\n",
    "    \n",
    "    return train_ds, test_ds"
   ]
  },
  {
   "cell_type": "code",
   "execution_count": 29,
   "metadata": {},
   "outputs": [],
   "source": [
    "train_ds, test_ds = load_mnist(flatten=True)"
   ]
  },
  {
   "cell_type": "code",
   "execution_count": 30,
   "metadata": {
    "scrolled": true
   },
   "outputs": [
    {
     "data": {
      "text/plain": [
       "(<tf.Tensor: shape=(64, 784), dtype=float32, numpy=\n",
       " array([[0., 0., 0., ..., 0., 0., 0.],\n",
       "        [0., 0., 0., ..., 0., 0., 0.],\n",
       "        [0., 0., 0., ..., 0., 0., 0.],\n",
       "        ...,\n",
       "        [0., 0., 0., ..., 0., 0., 0.],\n",
       "        [0., 0., 0., ..., 0., 0., 0.],\n",
       "        [0., 0., 0., ..., 0., 0., 0.]], dtype=float32)>,\n",
       " <tf.Tensor: shape=(64,), dtype=uint8, numpy=\n",
       " array([0, 1, 2, 9, 2, 1, 6, 0, 4, 2, 5, 0, 0, 1, 7, 7, 0, 4, 5, 4, 3, 0,\n",
       "        3, 8, 4, 0, 9, 2, 9, 9, 7, 9, 4, 3, 6, 7, 8, 7, 5, 4, 8, 0, 5, 6,\n",
       "        9, 3, 4, 1, 6, 5, 7, 5, 6, 1, 0, 6, 1, 8, 1, 9, 9, 0, 8, 3],\n",
       "       dtype=uint8)>)"
      ]
     },
     "execution_count": 30,
     "metadata": {},
     "output_type": "execute_result"
    }
   ],
   "source": [
    "next(iter(train_ds.take(1)))"
   ]
  },
  {
   "cell_type": "markdown",
   "metadata": {},
   "source": [
    "# AE.py"
   ]
  },
  {
   "cell_type": "code",
   "execution_count": 6,
   "metadata": {},
   "outputs": [
    {
     "name": "stdout",
     "output_type": "stream",
     "text": [
      "/tf/tensorflow/models/1.AE\n",
      "/tf/tensorflow/models/1.AE/weights/AE-stacked\n"
     ]
    }
   ],
   "source": [
    "import os\n",
    "\n",
    "print(os.path.abspath(\".\"))\n",
    "cur_dir = os.path.abspath(\".\")\n",
    "name = \"AE-stacked\"\n",
    "print(os.path.join(cur_dir, f\"weights/{name}.tf\"))\n"
   ]
  },
  {
   "cell_type": "code",
   "execution_count": 128,
   "metadata": {},
   "outputs": [],
   "source": [
    "import os\n",
    "import tensorflow as tf\n",
    "\n",
    "cur_dir = os.path.abspath(\".\")\n",
    "\n",
    "class AE(tf.keras.Model):\n",
    "    def __init__(self, name):\n",
    "        super(AE, self).__init__(name=name)\n",
    "        self.cur_dir = os.path.abspath(\".\")\n",
    "        self.filepath = os.path.join(cur_dir, \"weights\")\n",
    "        \n",
    "    def save_weight(self, epoch, loss):\n",
    "        filepath = os.path.join(self.filepath, f\"epochs:{epoch}_loss:{loss}\")\n",
    "        try:\n",
    "            self.save_weights(filepath, overwrite=True,save_format=\"tf\")\n",
    "        except ImportError as e:\n",
    "            print(\"h5py is not available and the weight file is in HDF5 format.\", e, sep='\\n')\n",
    "    \n",
    "    def load_weight(self):\n",
    "        self.load_weights(self.filepath, by_name=False)"
   ]
  },
  {
   "cell_type": "markdown",
   "metadata": {},
   "source": [
    "# AE-undercomplete.py"
   ]
  },
  {
   "cell_type": "code",
   "execution_count": null,
   "metadata": {},
   "outputs": [],
   "source": [
    "n_inputs = 784\n",
    "n_hidden = 100\n",
    "n_outputs = n_inputs\n",
    "\n",
    "class AE_UC(AE):\n",
    "    def __init__(self):\n",
    "        super().__init__(\"AE-undercomplete\")\n",
    "        \n",
    "        self.hidden = tf.keras.layers.Dense(n_hidden)\n",
    "        self.outputs = tf.keras.layers.Dense(n_outputs)\n",
    "        \n",
    "    def call(self, x):\n",
    "        x = self.hidden(x)\n",
    "        return self.outputs(x)"
   ]
  },
  {
   "cell_type": "markdown",
   "metadata": {},
   "source": [
    "# train.py"
   ]
  },
  {
   "cell_type": "code",
   "execution_count": 31,
   "metadata": {},
   "outputs": [
    {
     "data": {
      "text/plain": [
       "<tf.Tensor: shape=(64, 784), dtype=float32, numpy=\n",
       "array([[-0.30250287,  0.14121279, -0.17230012, ..., -0.02988997,\n",
       "         0.395446  , -0.11788203],\n",
       "       [-0.24505225, -0.04016065, -0.1062265 , ..., -0.45540535,\n",
       "         0.21555413, -0.23108496],\n",
       "       [-0.34005308, -0.36352518,  0.06748123, ...,  0.05447821,\n",
       "         0.23479328, -0.05959939],\n",
       "       ...,\n",
       "       [-0.32307187, -0.09876315, -0.19627583, ..., -0.2068078 ,\n",
       "         0.20434165, -0.26404977],\n",
       "       [-0.01913455, -0.075371  ,  0.00666739, ..., -0.17684942,\n",
       "        -0.06389791, -0.23046623],\n",
       "       [-0.07081459, -0.06656758,  0.01953682, ..., -0.12992321,\n",
       "        -0.14620791, -0.33002508]], dtype=float32)>"
      ]
     },
     "execution_count": 31,
     "metadata": {},
     "output_type": "execute_result"
    }
   ],
   "source": [
    "ae_uc(next(iter(train_ds.take(1)))[0])"
   ]
  },
  {
   "cell_type": "code",
   "execution_count": null,
   "metadata": {},
   "outputs": [],
   "source": [
    "for model_class in AE.__subclasses__():\n",
    "    model = model_class()\n",
    "    train(model)\n",
    "    model.save_weight()"
   ]
  },
  {
   "cell_type": "code",
   "execution_count": null,
   "metadata": {},
   "outputs": [],
   "source": [
    "def train():\n",
    "    "
   ]
  },
  {
   "cell_type": "code",
   "execution_count": 114,
   "metadata": {},
   "outputs": [
    {
     "name": "stdout",
     "output_type": "stream",
     "text": [
      "tf.Tensor(\n",
      "[0.25073615 0.12835439 0.18821526 0.24678671 0.22956376 0.11011429\n",
      " 0.44523752 0.08580049 0.3054949  0.29237276 0.2982693  0.09136851\n",
      " 0.45562643 0.30502653 0.18890291 0.37130588 0.26691556 0.17026897\n",
      " 0.17850773 0.1893518  0.2399322  0.22588003 0.21046658 0.24306823\n",
      " 0.37563515 0.19968452 0.15425327 0.12994182 0.08081746 0.22711037\n",
      " 0.09924209 0.19295368 0.23766322 0.2072405  0.09583682 0.2974602\n",
      " 0.16440491 0.32772648 0.08594456 0.12127063 0.20471005 0.16727671\n",
      " 0.18518576 0.14465654 0.06471962 0.24219517 0.13521004 0.30665264\n",
      " 0.16529243 0.30386615 0.52407146 0.3094855  0.27067193 0.2752135\n",
      " 0.17686212 0.11787312 0.13846685 0.23650107 0.07569847 0.39356014\n",
      " 0.07240282 0.2558876  0.04085666 0.38552153], shape=(64,), dtype=float32)\n"
     ]
    }
   ],
   "source": [
    "loss_object = tf.keras.losses.MSE\n",
    "\n",
    "def loss(model, x, y):\n",
    "    y_ = model(x)\n",
    "    return loss_object(y_true=y, y_pred=y_)\n",
    "\n",
    "for x, y in train_ds.take(1):\n",
    "    l = loss(ae_uc, x, x)\n",
    "    print(l)"
   ]
  },
  {
   "cell_type": "code",
   "execution_count": 115,
   "metadata": {},
   "outputs": [],
   "source": [
    "def grad(model, x, y):\n",
    "    with tf.GradientTape() as tape:\n",
    "        loss_value = loss(model, x, y)\n",
    "    return loss_value, tape.gradient(loss_value, model.trainable_variables)\n",
    "\n",
    "optimizer = tf.keras.optimizers.Adam(learning_rate=0.01)"
   ]
  },
  {
   "cell_type": "code",
   "execution_count": 116,
   "metadata": {},
   "outputs": [
    {
     "name": "stdout",
     "output_type": "stream",
     "text": [
      "단계: 0, 초기 손실: [0.25073615 0.12835439 0.18821526 0.24678671 0.22956376 0.11011429\n",
      " 0.44523752 0.08580049 0.3054949  0.29237276 0.2982693  0.09136851\n",
      " 0.45562643 0.30502653 0.18890291 0.37130588 0.26691556 0.17026897\n",
      " 0.17850773 0.1893518  0.2399322  0.22588003 0.21046658 0.24306823\n",
      " 0.37563515 0.19968452 0.15425327 0.12994182 0.08081746 0.22711037\n",
      " 0.09924209 0.19295368 0.23766322 0.2072405  0.09583682 0.2974602\n",
      " 0.16440491 0.32772648 0.08594456 0.12127063 0.20471005 0.16727671\n",
      " 0.18518576 0.14465654 0.06471962 0.24219517 0.13521004 0.30665264\n",
      " 0.16529243 0.30386615 0.52407146 0.3094855  0.27067193 0.2752135\n",
      " 0.17686212 0.11787312 0.13846685 0.23650107 0.07569847 0.39356014\n",
      " 0.07240282 0.2558876  0.04085666 0.38552153]\n",
      "단계: 1,      손실: [2.6196725  0.9489364  1.3011646  2.5595345  1.8022598  0.91660386\n",
      " 5.1551476  0.5357138  4.5109982  3.3654714  2.8366475  0.6796931\n",
      " 5.95916    2.9916115  2.2253213  4.7588344  2.5718105  1.8523843\n",
      " 2.1750662  2.446693   2.246922   2.756946   2.5022461  3.029173\n",
      " 4.2915335  1.7079026  1.6043247  1.425976   0.77041376 2.120682\n",
      " 0.85052675 1.2119104  2.5969877  1.969105   0.9238488  2.841756\n",
      " 1.7934628  3.9277618  0.66646236 1.2480391  2.041029   1.8317504\n",
      " 1.842452   1.2583692  0.5403768  2.3836179  1.198545   3.0952117\n",
      " 1.2952304  5.0084214  3.990617   4.246219   1.8048468  3.6120567\n",
      " 1.486464   1.0704688  1.3669885  2.1525133  0.613719   3.7090971\n",
      " 0.61421007 2.0518827  0.28420016 4.6461143 ]\n"
     ]
    }
   ],
   "source": [
    "loss_value, grads = grad(ae_uc, x, x)\n",
    "\n",
    "print(\"단계: {}, 초기 손실: {}\".format(optimizer.iterations.numpy(),\n",
    "                                          loss_value.numpy()))\n",
    "\n",
    "optimizer.apply_gradients(zip(grads, ae_uc.trainable_variables))\n",
    "\n",
    "print(\"단계: {},      손실: {}\".format(optimizer.iterations.numpy(),\n",
    "                                          loss(ae_uc, x, x).numpy()))"
   ]
  },
  {
   "cell_type": "code",
   "execution_count": 125,
   "metadata": {},
   "outputs": [
    {
     "data": {
      "text/plain": [
       "'/job:localhost/replica:0/task:0/device:GPU:0'"
      ]
     },
     "execution_count": 125,
     "metadata": {},
     "output_type": "execute_result"
    }
   ],
   "source": [
    "ae_uc.trainable_variables[0].device"
   ]
  },
  {
   "cell_type": "code",
   "execution_count": 120,
   "metadata": {},
   "outputs": [
    {
     "name": "stdout",
     "output_type": "stream",
     "text": [
      "Model: \"AE-undercomplete\"\n",
      "_________________________________________________________________\n",
      "Layer (type)                 Output Shape              Param #   \n",
      "=================================================================\n",
      "dense_8 (Dense)              multiple                  78500     \n",
      "_________________________________________________________________\n",
      "dense_9 (Dense)              multiple                  79184     \n",
      "=================================================================\n",
      "Total params: 157,684\n",
      "Trainable params: 157,684\n",
      "Non-trainable params: 0\n",
      "_________________________________________________________________\n"
     ]
    }
   ],
   "source": [
    "ae_uc.summary()"
   ]
  },
  {
   "cell_type": "code",
   "execution_count": 127,
   "metadata": {},
   "outputs": [
    {
     "name": "stdout",
     "output_type": "stream",
     "text": [
      "에포크 000: 손실: 0.803\n",
      "에포크 001: 손실: 0.019\n",
      "에포크 002: 손실: 0.013\n",
      "에포크 003: 손실: 0.010\n",
      "에포크 004: 손실: 0.008\n",
      "에포크 005: 손실: 0.007\n",
      "에포크 006: 손실: 0.007\n",
      "에포크 007: 손실: 0.006\n",
      "에포크 008: 손실: 0.006\n",
      "에포크 009: 손실: 0.007\n",
      "에포크 010: 손실: 0.007\n",
      "에포크 011: 손실: 0.008\n",
      "에포크 012: 손실: 0.009\n",
      "에포크 013: 손실: 0.152\n",
      "에포크 014: 손실: 0.009\n",
      "에포크 015: 손실: 0.007\n",
      "에포크 016: 손실: 0.006\n",
      "에포크 017: 손실: 0.006\n",
      "에포크 018: 손실: 0.006\n",
      "에포크 019: 손실: 0.006\n",
      "에포크 020: 손실: 0.006\n",
      "에포크 021: 손실: 0.007\n",
      "에포크 022: 손실: 0.007\n",
      "에포크 023: 손실: 0.009\n",
      "에포크 024: 손실: 0.312\n",
      "에포크 025: 손실: 0.007\n",
      "에포크 026: 손실: 0.007\n",
      "에포크 027: 손실: 0.007\n",
      "에포크 028: 손실: 0.006\n",
      "에포크 029: 손실: 0.006\n"
     ]
    }
   ],
   "source": [
    "train_loss_results = []\n",
    "\n",
    "ae_uc = AE_UC()\n",
    "\n",
    "epochs = 30\n",
    "\n",
    "for epoch in range(epochs):\n",
    "    epoch_loss_avg = tf.keras.metrics.Mean()\n",
    "    \n",
    "    for x, _ in train_ds:\n",
    "        loss_value, grads = grad(ae_uc, x, x)\n",
    "        optimizer.apply_gradients(zip(grads, ae_uc.trainable_variables))\n",
    "        \n",
    "        epoch_loss_avg(loss_value)\n",
    "        \n",
    "    train_loss_results.append(epoch_loss_avg.result())\n",
    "    \n",
    "    print(\"에포크 {:03d}: 손실: {:.3f}\".format(epoch, epoch_loss_avg.result()))"
   ]
  },
  {
   "cell_type": "code",
   "execution_count": 132,
   "metadata": {},
   "outputs": [],
   "source": [
    "ae_uc.save_weights(\"./weights/something.weights\")"
   ]
  },
  {
   "cell_type": "code",
   "execution_count": null,
   "metadata": {},
   "outputs": [],
   "source": []
  }
 ],
 "metadata": {
  "kernelspec": {
   "display_name": "Python 3",
   "language": "python",
   "name": "python3"
  },
  "language_info": {
   "codemirror_mode": {
    "name": "ipython",
    "version": 3
   },
   "file_extension": ".py",
   "mimetype": "text/x-python",
   "name": "python",
   "nbconvert_exporter": "python",
   "pygments_lexer": "ipython3",
   "version": "3.6.9"
  }
 },
 "nbformat": 4,
 "nbformat_minor": 2
}
