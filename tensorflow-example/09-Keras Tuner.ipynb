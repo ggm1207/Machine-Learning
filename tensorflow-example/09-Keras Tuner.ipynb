{
 "cells": [
  {
   "cell_type": "code",
   "execution_count": 1,
   "metadata": {},
   "outputs": [],
   "source": [
    "import tensorflow as tf\n",
    "from tensorflow import keras\n",
    "\n",
    "import IPython"
   ]
  },
  {
   "cell_type": "code",
   "execution_count": 2,
   "metadata": {},
   "outputs": [
    {
     "name": "stdout",
     "output_type": "stream",
     "text": [
      "\u001b[33mWARNING: You are using pip version 20.1.1; however, version 20.2.2 is available.\r\n",
      "You should consider upgrading via the '/usr/bin/python3 -m pip install --upgrade pip' command.\u001b[0m\r\n"
     ]
    }
   ],
   "source": [
    "!pip install -q -U keras-tuner\n",
    "import kerastuner as kt"
   ]
  },
  {
   "cell_type": "code",
   "execution_count": 3,
   "metadata": {},
   "outputs": [
    {
     "name": "stdout",
     "output_type": "stream",
     "text": [
      "Downloading data from https://storage.googleapis.com/tensorflow/tf-keras-datasets/train-labels-idx1-ubyte.gz\n",
      "32768/29515 [=================================]ETA:  - 0s 0us/step\n",
      "Downloading data from https://storage.googleapis.com/tensorflow/tf-keras-datasets/train-images-idx3-ubyte.gz\n",
      "26427392/26421880 [==============================] - ETA:  - ETA:  - ETA:  - ETA:  - ETA:  - ETA:  - ETA:  - ETA:  - ETA:  - ETA:  - ETA:  - ETA:  - ETA:  - ETA:  - ETA:  - ETA:  - ETA:  - 1s 0us/step\n",
      "Downloading data from https://storage.googleapis.com/tensorflow/tf-keras-datasets/t10k-labels-idx1-ubyte.gz\n",
      "8192/5148 [===============================================] - 0s 0us/step\n",
      "Downloading data from https://storage.googleapis.com/tensorflow/tf-keras-datasets/t10k-images-idx3-ubyte.gz\n",
      "4423680/4422102 [==============================] - ETA:  - ETA:  - ETA:  - 0s 0us/step\n"
     ]
    }
   ],
   "source": [
    "(img_train, label_train), (img_test, label_test) = keras.datasets.fashion_mnist.load_data()"
   ]
  },
  {
   "cell_type": "code",
   "execution_count": 4,
   "metadata": {},
   "outputs": [],
   "source": [
    "img_train = img_train.astype('float32') / 255.0\n",
    "img_test = img_test.astype('float32') / 255.0"
   ]
  },
  {
   "cell_type": "code",
   "execution_count": 5,
   "metadata": {},
   "outputs": [],
   "source": [
    "def model_builder(hp):\n",
    "    model = keras.Sequential()\n",
    "    model.add(keras.layers.Flatten(input_shape=(28, 28)))\n",
    "    \n",
    "    hp_units = hp.Int('units', min_value=32, max_value=512, step=32)\n",
    "    model.add(keras.layers.Dense(units=hp_units, activation='relu'))\n",
    "    model.add(keras.layers.Dense(10))\n",
    "    \n",
    "    hp_learning_rate = hp.Choice('learning_rate', values=[1e-2, 1e-3, 1e-4])\n",
    "    \n",
    "    model.compile(optimizer = keras.optimizers.Adam(learning_rate = hp_learning_rate),\n",
    "                loss = keras.losses.SparseCategoricalCrossentropy(from_logits = True), \n",
    "                metrics = ['accuracy'])\n",
    "    \n",
    "    return model"
   ]
  },
  {
   "cell_type": "code",
   "execution_count": 6,
   "metadata": {},
   "outputs": [],
   "source": [
    "tuner = kt.Hyperband(model_builder,\n",
    "                    objective='val_accuracy',\n",
    "                    max_epochs=10,\n",
    "                    factor=3,\n",
    "                    directory='my_dir',\n",
    "                    project_name='intro_to_kt')"
   ]
  },
  {
   "cell_type": "code",
   "execution_count": 7,
   "metadata": {},
   "outputs": [],
   "source": [
    "class ClearTrainingOutput(tf.keras.callbacks.Callback):\n",
    "    def on_train_end(*args, **kwargs):\n",
    "        IPython.display.clear_output(wait=True)"
   ]
  },
  {
   "cell_type": "code",
   "execution_count": 9,
   "metadata": {},
   "outputs": [
    {
     "data": {
      "text/html": [
       "<span style=\"color:#4527A0\"><h1 style=\"font-size:18px\">Trial complete</h1></span>"
      ],
      "text/plain": [
       "<IPython.core.display.HTML object>"
      ]
     },
     "metadata": {},
     "output_type": "display_data"
    },
    {
     "data": {
      "text/html": [
       "<span style=\"color:#4527A0\"><h1 style=\"font-size:18px\">Trial summary</h1></span>"
      ],
      "text/plain": [
       "<IPython.core.display.HTML object>"
      ]
     },
     "metadata": {},
     "output_type": "display_data"
    },
    {
     "data": {
      "text/html": [
       "<span style=\"color:cyan\"> |-Trial ID: b5ad7cf517d6a42d14df70378117b3f0</span>"
      ],
      "text/plain": [
       "<IPython.core.display.HTML object>"
      ]
     },
     "metadata": {},
     "output_type": "display_data"
    },
    {
     "data": {
      "text/html": [
       "<span style=\"color:cyan\"> |-Score: 0.8551999926567078</span>"
      ],
      "text/plain": [
       "<IPython.core.display.HTML object>"
      ]
     },
     "metadata": {},
     "output_type": "display_data"
    },
    {
     "data": {
      "text/html": [
       "<span style=\"color:cyan\"> |-Best step: 0</span>"
      ],
      "text/plain": [
       "<IPython.core.display.HTML object>"
      ]
     },
     "metadata": {},
     "output_type": "display_data"
    },
    {
     "data": {
      "text/html": [
       "<span style=\"color:#7E57C2\"><h2 style=\"font-size:16px\">Hyperparameters:</h2></span>"
      ],
      "text/plain": [
       "<IPython.core.display.HTML object>"
      ]
     },
     "metadata": {},
     "output_type": "display_data"
    },
    {
     "data": {
      "text/html": [
       "<span style=\"color:cyan\"> |-learning_rate: 0.01</span>"
      ],
      "text/plain": [
       "<IPython.core.display.HTML object>"
      ]
     },
     "metadata": {},
     "output_type": "display_data"
    },
    {
     "data": {
      "text/html": [
       "<span style=\"color:blue\"> |-tuner/bracket: 0</span>"
      ],
      "text/plain": [
       "<IPython.core.display.HTML object>"
      ]
     },
     "metadata": {},
     "output_type": "display_data"
    },
    {
     "data": {
      "text/html": [
       "<span style=\"color:cyan\"> |-tuner/epochs: 10</span>"
      ],
      "text/plain": [
       "<IPython.core.display.HTML object>"
      ]
     },
     "metadata": {},
     "output_type": "display_data"
    },
    {
     "data": {
      "text/html": [
       "<span style=\"color:blue\"> |-tuner/initial_epoch: 0</span>"
      ],
      "text/plain": [
       "<IPython.core.display.HTML object>"
      ]
     },
     "metadata": {},
     "output_type": "display_data"
    },
    {
     "data": {
      "text/html": [
       "<span style=\"color:cyan\"> |-tuner/round: 0</span>"
      ],
      "text/plain": [
       "<IPython.core.display.HTML object>"
      ]
     },
     "metadata": {},
     "output_type": "display_data"
    },
    {
     "data": {
      "text/html": [
       "<span style=\"color:blue\"> |-units: 448</span>"
      ],
      "text/plain": [
       "<IPython.core.display.HTML object>"
      ]
     },
     "metadata": {},
     "output_type": "display_data"
    },
    {
     "name": "stdout",
     "output_type": "stream",
     "text": [
      "INFO:tensorflow:Oracle triggered exit\n",
      "\n",
      "The hyperparameter search is complete. The optimal number of units in the first densely-connected\n",
      "layer is 320 and the optimal learning rate for the optimizer\n",
      "is 0.001.\n",
      "\n"
     ]
    }
   ],
   "source": [
    "tuner.search(img_train, label_train, epochs=10, validation_data=(img_test, label_test),\n",
    "            callbacks=[ClearTrainingOutput()])\n",
    "\n",
    "best_hps = tuner.get_best_hyperparameters(num_trials=1)[0]\n",
    "\n",
    "print(f\"\"\"\n",
    "The hyperparameter search is complete. The optimal number of units in the first densely-connected\n",
    "layer is {best_hps.get('units')} and the optimal learning rate for the optimizer\n",
    "is {best_hps.get('learning_rate')}.\n",
    "\"\"\")"
   ]
  },
  {
   "cell_type": "code",
   "execution_count": 10,
   "metadata": {
    "scrolled": true
   },
   "outputs": [
    {
     "name": "stdout",
     "output_type": "stream",
     "text": [
      "Epoch 1/10\n",
      "1875/1875 [==============================] - ETA: 0s - loss: 2.4641 - accuracy: 0.03 - ETA: 2s - loss: 1.0891 - accuracy: 0.61 - ETA: 2s - loss: 0.9044 - accuracy: 0.67 - ETA: 1s - loss: 0.8103 - accuracy: 0.71 - ETA: 1s - loss: 0.7570 - accuracy: 0.73 - ETA: 1s - loss: 0.7213 - accuracy: 0.74 - ETA: 1s - loss: 0.6994 - accuracy: 0.75 - ETA: 1s - loss: 0.6833 - accuracy: 0.76 - ETA: 1s - loss: 0.6649 - accuracy: 0.76 - ETA: 1s - loss: 0.6490 - accuracy: 0.77 - ETA: 1s - loss: 0.6345 - accuracy: 0.77 - ETA: 1s - loss: 0.6205 - accuracy: 0.78 - ETA: 1s - loss: 0.6098 - accuracy: 0.78 - ETA: 1s - loss: 0.5978 - accuracy: 0.79 - ETA: 1s - loss: 0.5908 - accuracy: 0.79 - ETA: 1s - loss: 0.5834 - accuracy: 0.79 - ETA: 1s - loss: 0.5736 - accuracy: 0.79 - ETA: 1s - loss: 0.5686 - accuracy: 0.79 - ETA: 1s - loss: 0.5623 - accuracy: 0.80 - ETA: 1s - loss: 0.5564 - accuracy: 0.80 - ETA: 1s - loss: 0.5507 - accuracy: 0.80 - ETA: 1s - loss: 0.5459 - accuracy: 0.80 - ETA: 1s - loss: 0.5422 - accuracy: 0.80 - ETA: 0s - loss: 0.5358 - accuracy: 0.81 - ETA: 0s - loss: 0.5328 - accuracy: 0.81 - ETA: 0s - loss: 0.5291 - accuracy: 0.81 - ETA: 0s - loss: 0.5251 - accuracy: 0.81 - ETA: 0s - loss: 0.5212 - accuracy: 0.81 - ETA: 0s - loss: 0.5172 - accuracy: 0.81 - ETA: 0s - loss: 0.5135 - accuracy: 0.81 - ETA: 0s - loss: 0.5092 - accuracy: 0.81 - ETA: 0s - loss: 0.5069 - accuracy: 0.82 - ETA: 0s - loss: 0.5044 - accuracy: 0.82 - ETA: 0s - loss: 0.5018 - accuracy: 0.82 - ETA: 0s - loss: 0.4986 - accuracy: 0.82 - ETA: 0s - loss: 0.4956 - accuracy: 0.82 - ETA: 0s - loss: 0.4943 - accuracy: 0.82 - ETA: 0s - loss: 0.4910 - accuracy: 0.82 - ETA: 0s - loss: 0.4896 - accuracy: 0.82 - ETA: 0s - loss: 0.4874 - accuracy: 0.82 - ETA: 0s - loss: 0.4851 - accuracy: 0.82 - ETA: 0s - loss: 0.4829 - accuracy: 0.82 - ETA: 0s - loss: 0.4807 - accuracy: 0.82 - 2s 1ms/step - loss: 0.4803 - accuracy: 0.8297 - val_loss: 0.4202 - val_accuracy: 0.8467\n",
      "Epoch 2/10\n",
      "1875/1875 [==============================] - ETA: 0s - loss: 0.4291 - accuracy: 0.84 - ETA: 2s - loss: 0.3702 - accuracy: 0.86 - ETA: 2s - loss: 0.3860 - accuracy: 0.86 - ETA: 2s - loss: 0.3851 - accuracy: 0.86 - ETA: 1s - loss: 0.3799 - accuracy: 0.86 - ETA: 1s - loss: 0.3806 - accuracy: 0.86 - ETA: 1s - loss: 0.3753 - accuracy: 0.86 - ETA: 1s - loss: 0.3777 - accuracy: 0.86 - ETA: 1s - loss: 0.3783 - accuracy: 0.86 - ETA: 1s - loss: 0.3762 - accuracy: 0.86 - ETA: 1s - loss: 0.3768 - accuracy: 0.86 - ETA: 1s - loss: 0.3745 - accuracy: 0.86 - ETA: 1s - loss: 0.3741 - accuracy: 0.86 - ETA: 1s - loss: 0.3745 - accuracy: 0.86 - ETA: 1s - loss: 0.3746 - accuracy: 0.86 - ETA: 1s - loss: 0.3742 - accuracy: 0.86 - ETA: 1s - loss: 0.3741 - accuracy: 0.86 - ETA: 1s - loss: 0.3746 - accuracy: 0.86 - ETA: 1s - loss: 0.3750 - accuracy: 0.86 - ETA: 1s - loss: 0.3742 - accuracy: 0.86 - ETA: 1s - loss: 0.3747 - accuracy: 0.86 - ETA: 1s - loss: 0.3744 - accuracy: 0.86 - ETA: 1s - loss: 0.3728 - accuracy: 0.86 - ETA: 0s - loss: 0.3710 - accuracy: 0.86 - ETA: 0s - loss: 0.3707 - accuracy: 0.86 - ETA: 0s - loss: 0.3718 - accuracy: 0.86 - ETA: 0s - loss: 0.3702 - accuracy: 0.86 - ETA: 0s - loss: 0.3706 - accuracy: 0.86 - ETA: 0s - loss: 0.3707 - accuracy: 0.86 - ETA: 0s - loss: 0.3695 - accuracy: 0.86 - ETA: 0s - loss: 0.3690 - accuracy: 0.86 - ETA: 0s - loss: 0.3680 - accuracy: 0.86 - ETA: 0s - loss: 0.3673 - accuracy: 0.86 - ETA: 0s - loss: 0.3666 - accuracy: 0.86 - ETA: 0s - loss: 0.3653 - accuracy: 0.86 - ETA: 0s - loss: 0.3650 - accuracy: 0.86 - ETA: 0s - loss: 0.3643 - accuracy: 0.86 - ETA: 0s - loss: 0.3639 - accuracy: 0.86 - ETA: 0s - loss: 0.3641 - accuracy: 0.86 - ETA: 0s - loss: 0.3628 - accuracy: 0.86 - ETA: 0s - loss: 0.3622 - accuracy: 0.86 - ETA: 0s - loss: 0.3621 - accuracy: 0.86 - ETA: 0s - loss: 0.3618 - accuracy: 0.86 - 2s 1ms/step - loss: 0.3617 - accuracy: 0.8676 - val_loss: 0.3808 - val_accuracy: 0.8641\n",
      "Epoch 3/10\n",
      "1875/1875 [==============================] - ETA: 0s - loss: 0.1689 - accuracy: 0.96 - ETA: 2s - loss: 0.2888 - accuracy: 0.88 - ETA: 2s - loss: 0.3138 - accuracy: 0.87 - ETA: 2s - loss: 0.3132 - accuracy: 0.88 - ETA: 2s - loss: 0.3155 - accuracy: 0.87 - ETA: 2s - loss: 0.3087 - accuracy: 0.88 - ETA: 1s - loss: 0.3132 - accuracy: 0.88 - ETA: 1s - loss: 0.3134 - accuracy: 0.88 - ETA: 1s - loss: 0.3154 - accuracy: 0.88 - ETA: 1s - loss: 0.3198 - accuracy: 0.88 - ETA: 1s - loss: 0.3191 - accuracy: 0.88 - ETA: 1s - loss: 0.3237 - accuracy: 0.87 - ETA: 1s - loss: 0.3251 - accuracy: 0.87 - ETA: 1s - loss: 0.3254 - accuracy: 0.87 - ETA: 1s - loss: 0.3273 - accuracy: 0.87 - ETA: 1s - loss: 0.3283 - accuracy: 0.87 - ETA: 1s - loss: 0.3279 - accuracy: 0.87 - ETA: 1s - loss: 0.3292 - accuracy: 0.87 - ETA: 1s - loss: 0.3273 - accuracy: 0.87 - ETA: 1s - loss: 0.3272 - accuracy: 0.87 - ETA: 1s - loss: 0.3265 - accuracy: 0.87 - ETA: 1s - loss: 0.3250 - accuracy: 0.87 - ETA: 1s - loss: 0.3257 - accuracy: 0.87 - ETA: 1s - loss: 0.3246 - accuracy: 0.87 - ETA: 0s - loss: 0.3257 - accuracy: 0.87 - ETA: 0s - loss: 0.3267 - accuracy: 0.87 - ETA: 0s - loss: 0.3251 - accuracy: 0.87 - ETA: 0s - loss: 0.3248 - accuracy: 0.87 - ETA: 0s - loss: 0.3240 - accuracy: 0.87 - ETA: 0s - loss: 0.3236 - accuracy: 0.87 - ETA: 0s - loss: 0.3229 - accuracy: 0.87 - ETA: 0s - loss: 0.3234 - accuracy: 0.87 - ETA: 0s - loss: 0.3236 - accuracy: 0.87 - ETA: 0s - loss: 0.3236 - accuracy: 0.87 - ETA: 0s - loss: 0.3249 - accuracy: 0.87 - ETA: 0s - loss: 0.3252 - accuracy: 0.87 - ETA: 0s - loss: 0.3248 - accuracy: 0.87 - ETA: 0s - loss: 0.3242 - accuracy: 0.87 - ETA: 0s - loss: 0.3244 - accuracy: 0.87 - ETA: 0s - loss: 0.3248 - accuracy: 0.87 - ETA: 0s - loss: 0.3251 - accuracy: 0.87 - ETA: 0s - loss: 0.3241 - accuracy: 0.88 - ETA: 0s - loss: 0.3240 - accuracy: 0.88 - ETA: 0s - loss: 0.3231 - accuracy: 0.88 - 2s 1ms/step - loss: 0.3230 - accuracy: 0.8809 - val_loss: 0.3720 - val_accuracy: 0.8630\n",
      "Epoch 4/10\n",
      "1875/1875 [==============================] - ETA: 0s - loss: 0.2856 - accuracy: 0.87 - ETA: 2s - loss: 0.3083 - accuracy: 0.88 - ETA: 2s - loss: 0.3049 - accuracy: 0.88 - ETA: 1s - loss: 0.3117 - accuracy: 0.88 - ETA: 1s - loss: 0.3111 - accuracy: 0.88 - ETA: 1s - loss: 0.3075 - accuracy: 0.88 - ETA: 1s - loss: 0.3062 - accuracy: 0.88 - ETA: 1s - loss: 0.3065 - accuracy: 0.88 - ETA: 1s - loss: 0.3051 - accuracy: 0.88 - ETA: 1s - loss: 0.3071 - accuracy: 0.88 - ETA: 1s - loss: 0.3068 - accuracy: 0.88 - ETA: 1s - loss: 0.3083 - accuracy: 0.88 - ETA: 1s - loss: 0.3085 - accuracy: 0.88 - ETA: 1s - loss: 0.3058 - accuracy: 0.88 - ETA: 1s - loss: 0.3042 - accuracy: 0.88 - ETA: 1s - loss: 0.3021 - accuracy: 0.89 - ETA: 1s - loss: 0.3037 - accuracy: 0.88 - ETA: 1s - loss: 0.3040 - accuracy: 0.88 - ETA: 1s - loss: 0.3050 - accuracy: 0.88 - ETA: 1s - loss: 0.3052 - accuracy: 0.88 - ETA: 1s - loss: 0.3051 - accuracy: 0.88 - ETA: 1s - loss: 0.3048 - accuracy: 0.88 - ETA: 1s - loss: 0.3061 - accuracy: 0.88 - ETA: 0s - loss: 0.3045 - accuracy: 0.88 - ETA: 0s - loss: 0.3046 - accuracy: 0.88 - ETA: 0s - loss: 0.3035 - accuracy: 0.88 - ETA: 0s - loss: 0.3023 - accuracy: 0.88 - ETA: 0s - loss: 0.3013 - accuracy: 0.88 - ETA: 0s - loss: 0.3011 - accuracy: 0.88 - ETA: 0s - loss: 0.3014 - accuracy: 0.88 - ETA: 0s - loss: 0.3018 - accuracy: 0.88 - ETA: 0s - loss: 0.3021 - accuracy: 0.88 - ETA: 0s - loss: 0.3022 - accuracy: 0.88 - ETA: 0s - loss: 0.3015 - accuracy: 0.88 - ETA: 0s - loss: 0.3014 - accuracy: 0.88 - ETA: 0s - loss: 0.3014 - accuracy: 0.88 - ETA: 0s - loss: 0.3018 - accuracy: 0.88 - ETA: 0s - loss: 0.3014 - accuracy: 0.88 - ETA: 0s - loss: 0.3007 - accuracy: 0.88 - ETA: 0s - loss: 0.3003 - accuracy: 0.88 - ETA: 0s - loss: 0.3001 - accuracy: 0.88 - ETA: 0s - loss: 0.3003 - accuracy: 0.88 - ETA: 0s - loss: 0.3003 - accuracy: 0.88 - 2s 1ms/step - loss: 0.3002 - accuracy: 0.8891 - val_loss: 0.3565 - val_accuracy: 0.8700\n",
      "Epoch 5/10\n"
     ]
    },
    {
     "name": "stdout",
     "output_type": "stream",
     "text": [
      "1875/1875 [==============================] - ETA: 0s - loss: 0.3646 - accuracy: 0.87 - ETA: 1s - loss: 0.3020 - accuracy: 0.88 - ETA: 1s - loss: 0.2850 - accuracy: 0.89 - ETA: 1s - loss: 0.2813 - accuracy: 0.89 - ETA: 1s - loss: 0.2892 - accuracy: 0.89 - ETA: 1s - loss: 0.2916 - accuracy: 0.89 - ETA: 1s - loss: 0.2918 - accuracy: 0.89 - ETA: 1s - loss: 0.2907 - accuracy: 0.89 - ETA: 1s - loss: 0.2865 - accuracy: 0.89 - ETA: 1s - loss: 0.2837 - accuracy: 0.89 - ETA: 1s - loss: 0.2850 - accuracy: 0.89 - ETA: 1s - loss: 0.2855 - accuracy: 0.89 - ETA: 1s - loss: 0.2861 - accuracy: 0.89 - ETA: 1s - loss: 0.2863 - accuracy: 0.89 - ETA: 1s - loss: 0.2843 - accuracy: 0.89 - ETA: 1s - loss: 0.2832 - accuracy: 0.89 - ETA: 1s - loss: 0.2838 - accuracy: 0.89 - ETA: 1s - loss: 0.2820 - accuracy: 0.89 - ETA: 1s - loss: 0.2809 - accuracy: 0.89 - ETA: 1s - loss: 0.2803 - accuracy: 0.89 - ETA: 1s - loss: 0.2798 - accuracy: 0.89 - ETA: 1s - loss: 0.2793 - accuracy: 0.89 - ETA: 1s - loss: 0.2806 - accuracy: 0.89 - ETA: 0s - loss: 0.2814 - accuracy: 0.89 - ETA: 0s - loss: 0.2818 - accuracy: 0.89 - ETA: 0s - loss: 0.2814 - accuracy: 0.89 - ETA: 0s - loss: 0.2823 - accuracy: 0.89 - ETA: 0s - loss: 0.2827 - accuracy: 0.89 - ETA: 0s - loss: 0.2834 - accuracy: 0.89 - ETA: 0s - loss: 0.2833 - accuracy: 0.89 - ETA: 0s - loss: 0.2834 - accuracy: 0.89 - ETA: 0s - loss: 0.2837 - accuracy: 0.89 - ETA: 0s - loss: 0.2830 - accuracy: 0.89 - ETA: 0s - loss: 0.2831 - accuracy: 0.89 - ETA: 0s - loss: 0.2837 - accuracy: 0.89 - ETA: 0s - loss: 0.2838 - accuracy: 0.89 - ETA: 0s - loss: 0.2840 - accuracy: 0.89 - ETA: 0s - loss: 0.2847 - accuracy: 0.89 - ETA: 0s - loss: 0.2841 - accuracy: 0.89 - ETA: 0s - loss: 0.2850 - accuracy: 0.89 - ETA: 0s - loss: 0.2844 - accuracy: 0.89 - ETA: 0s - loss: 0.2845 - accuracy: 0.89 - ETA: 0s - loss: 0.2841 - accuracy: 0.89 - 2s 1ms/step - loss: 0.2843 - accuracy: 0.8954 - val_loss: 0.3399 - val_accuracy: 0.8787\n",
      "Epoch 6/10\n",
      "1875/1875 [==============================] - ETA: 0s - loss: 0.2073 - accuracy: 0.90 - ETA: 2s - loss: 0.2655 - accuracy: 0.89 - ETA: 2s - loss: 0.2611 - accuracy: 0.90 - ETA: 2s - loss: 0.2542 - accuracy: 0.90 - ETA: 1s - loss: 0.2575 - accuracy: 0.90 - ETA: 1s - loss: 0.2639 - accuracy: 0.90 - ETA: 1s - loss: 0.2674 - accuracy: 0.90 - ETA: 1s - loss: 0.2703 - accuracy: 0.89 - ETA: 1s - loss: 0.2690 - accuracy: 0.89 - ETA: 1s - loss: 0.2714 - accuracy: 0.89 - ETA: 1s - loss: 0.2728 - accuracy: 0.89 - ETA: 1s - loss: 0.2724 - accuracy: 0.89 - ETA: 1s - loss: 0.2719 - accuracy: 0.89 - ETA: 1s - loss: 0.2716 - accuracy: 0.89 - ETA: 1s - loss: 0.2725 - accuracy: 0.89 - ETA: 1s - loss: 0.2723 - accuracy: 0.89 - ETA: 1s - loss: 0.2719 - accuracy: 0.89 - ETA: 1s - loss: 0.2708 - accuracy: 0.89 - ETA: 1s - loss: 0.2691 - accuracy: 0.89 - ETA: 1s - loss: 0.2677 - accuracy: 0.89 - ETA: 1s - loss: 0.2692 - accuracy: 0.89 - ETA: 1s - loss: 0.2682 - accuracy: 0.89 - ETA: 0s - loss: 0.2692 - accuracy: 0.89 - ETA: 0s - loss: 0.2690 - accuracy: 0.89 - ETA: 0s - loss: 0.2688 - accuracy: 0.89 - ETA: 0s - loss: 0.2693 - accuracy: 0.89 - ETA: 0s - loss: 0.2680 - accuracy: 0.89 - ETA: 0s - loss: 0.2681 - accuracy: 0.89 - ETA: 0s - loss: 0.2677 - accuracy: 0.89 - ETA: 0s - loss: 0.2676 - accuracy: 0.89 - ETA: 0s - loss: 0.2681 - accuracy: 0.89 - ETA: 0s - loss: 0.2685 - accuracy: 0.89 - ETA: 0s - loss: 0.2689 - accuracy: 0.89 - ETA: 0s - loss: 0.2687 - accuracy: 0.89 - ETA: 0s - loss: 0.2684 - accuracy: 0.89 - ETA: 0s - loss: 0.2686 - accuracy: 0.89 - ETA: 0s - loss: 0.2693 - accuracy: 0.89 - ETA: 0s - loss: 0.2700 - accuracy: 0.89 - ETA: 0s - loss: 0.2696 - accuracy: 0.89 - ETA: 0s - loss: 0.2694 - accuracy: 0.89 - ETA: 0s - loss: 0.2696 - accuracy: 0.89 - ETA: 0s - loss: 0.2699 - accuracy: 0.89 - 2s 1ms/step - loss: 0.2699 - accuracy: 0.8984 - val_loss: 0.3467 - val_accuracy: 0.8782\n",
      "Epoch 7/10\n",
      "1875/1875 [==============================] - ETA: 0s - loss: 0.2209 - accuracy: 0.93 - ETA: 2s - loss: 0.2387 - accuracy: 0.90 - ETA: 2s - loss: 0.2494 - accuracy: 0.90 - ETA: 1s - loss: 0.2548 - accuracy: 0.90 - ETA: 1s - loss: 0.2480 - accuracy: 0.90 - ETA: 1s - loss: 0.2470 - accuracy: 0.90 - ETA: 1s - loss: 0.2464 - accuracy: 0.90 - ETA: 1s - loss: 0.2497 - accuracy: 0.90 - ETA: 1s - loss: 0.2524 - accuracy: 0.90 - ETA: 1s - loss: 0.2590 - accuracy: 0.90 - ETA: 1s - loss: 0.2571 - accuracy: 0.90 - ETA: 1s - loss: 0.2575 - accuracy: 0.90 - ETA: 1s - loss: 0.2575 - accuracy: 0.90 - ETA: 1s - loss: 0.2582 - accuracy: 0.90 - ETA: 1s - loss: 0.2576 - accuracy: 0.90 - ETA: 1s - loss: 0.2584 - accuracy: 0.90 - ETA: 1s - loss: 0.2587 - accuracy: 0.90 - ETA: 1s - loss: 0.2599 - accuracy: 0.90 - ETA: 1s - loss: 0.2585 - accuracy: 0.90 - ETA: 1s - loss: 0.2586 - accuracy: 0.90 - ETA: 1s - loss: 0.2596 - accuracy: 0.90 - ETA: 1s - loss: 0.2603 - accuracy: 0.90 - ETA: 0s - loss: 0.2590 - accuracy: 0.90 - ETA: 0s - loss: 0.2583 - accuracy: 0.90 - ETA: 0s - loss: 0.2576 - accuracy: 0.90 - ETA: 0s - loss: 0.2569 - accuracy: 0.90 - ETA: 0s - loss: 0.2577 - accuracy: 0.90 - ETA: 0s - loss: 0.2571 - accuracy: 0.90 - ETA: 0s - loss: 0.2573 - accuracy: 0.90 - ETA: 0s - loss: 0.2562 - accuracy: 0.90 - ETA: 0s - loss: 0.2570 - accuracy: 0.90 - ETA: 0s - loss: 0.2568 - accuracy: 0.90 - ETA: 0s - loss: 0.2569 - accuracy: 0.90 - ETA: 0s - loss: 0.2573 - accuracy: 0.90 - ETA: 0s - loss: 0.2571 - accuracy: 0.90 - ETA: 0s - loss: 0.2576 - accuracy: 0.90 - ETA: 0s - loss: 0.2580 - accuracy: 0.90 - ETA: 0s - loss: 0.2588 - accuracy: 0.90 - ETA: 0s - loss: 0.2581 - accuracy: 0.90 - ETA: 0s - loss: 0.2571 - accuracy: 0.90 - ETA: 0s - loss: 0.2576 - accuracy: 0.90 - ETA: 0s - loss: 0.2583 - accuracy: 0.90 - 2s 1ms/step - loss: 0.2584 - accuracy: 0.9031 - val_loss: 0.3391 - val_accuracy: 0.8761\n",
      "Epoch 8/10\n",
      "1875/1875 [==============================] - ETA: 0s - loss: 0.2696 - accuracy: 0.93 - ETA: 1s - loss: 0.2378 - accuracy: 0.90 - ETA: 1s - loss: 0.2446 - accuracy: 0.90 - ETA: 1s - loss: 0.2421 - accuracy: 0.90 - ETA: 1s - loss: 0.2382 - accuracy: 0.90 - ETA: 1s - loss: 0.2393 - accuracy: 0.90 - ETA: 1s - loss: 0.2413 - accuracy: 0.90 - ETA: 1s - loss: 0.2407 - accuracy: 0.90 - ETA: 1s - loss: 0.2406 - accuracy: 0.90 - ETA: 1s - loss: 0.2404 - accuracy: 0.90 - ETA: 1s - loss: 0.2395 - accuracy: 0.90 - ETA: 1s - loss: 0.2362 - accuracy: 0.91 - ETA: 1s - loss: 0.2377 - accuracy: 0.90 - ETA: 1s - loss: 0.2369 - accuracy: 0.90 - ETA: 1s - loss: 0.2370 - accuracy: 0.90 - ETA: 1s - loss: 0.2361 - accuracy: 0.91 - ETA: 1s - loss: 0.2369 - accuracy: 0.90 - ETA: 1s - loss: 0.2373 - accuracy: 0.90 - ETA: 1s - loss: 0.2381 - accuracy: 0.90 - ETA: 1s - loss: 0.2394 - accuracy: 0.90 - ETA: 1s - loss: 0.2409 - accuracy: 0.90 - ETA: 1s - loss: 0.2409 - accuracy: 0.90 - ETA: 0s - loss: 0.2401 - accuracy: 0.90 - ETA: 0s - loss: 0.2405 - accuracy: 0.90 - ETA: 0s - loss: 0.2407 - accuracy: 0.90 - ETA: 0s - loss: 0.2418 - accuracy: 0.90 - ETA: 0s - loss: 0.2413 - accuracy: 0.90 - ETA: 0s - loss: 0.2419 - accuracy: 0.90 - ETA: 0s - loss: 0.2424 - accuracy: 0.90 - ETA: 0s - loss: 0.2429 - accuracy: 0.90 - ETA: 0s - loss: 0.2428 - accuracy: 0.90 - ETA: 0s - loss: 0.2428 - accuracy: 0.90 - ETA: 0s - loss: 0.2424 - accuracy: 0.90 - ETA: 0s - loss: 0.2423 - accuracy: 0.90 - ETA: 0s - loss: 0.2431 - accuracy: 0.90 - ETA: 0s - loss: 0.2430 - accuracy: 0.90 - ETA: 0s - loss: 0.2443 - accuracy: 0.90 - ETA: 0s - loss: 0.2458 - accuracy: 0.90 - ETA: 0s - loss: 0.2457 - accuracy: 0.90 - ETA: 0s - loss: 0.2453 - accuracy: 0.90 - ETA: 0s - loss: 0.2462 - accuracy: 0.90 - ETA: 0s - loss: 0.2458 - accuracy: 0.90 - 2s 1ms/step - loss: 0.2459 - accuracy: 0.9077 - val_loss: 0.3328 - val_accuracy: 0.8818\n",
      "Epoch 9/10\n"
     ]
    },
    {
     "name": "stdout",
     "output_type": "stream",
     "text": [
      "1875/1875 [==============================] - ETA: 0s - loss: 0.2797 - accuracy: 0.87 - ETA: 1s - loss: 0.2358 - accuracy: 0.91 - ETA: 1s - loss: 0.2303 - accuracy: 0.90 - ETA: 1s - loss: 0.2306 - accuracy: 0.91 - ETA: 1s - loss: 0.2258 - accuracy: 0.91 - ETA: 1s - loss: 0.2271 - accuracy: 0.91 - ETA: 1s - loss: 0.2302 - accuracy: 0.91 - ETA: 1s - loss: 0.2290 - accuracy: 0.91 - ETA: 1s - loss: 0.2280 - accuracy: 0.91 - ETA: 1s - loss: 0.2289 - accuracy: 0.91 - ETA: 1s - loss: 0.2282 - accuracy: 0.91 - ETA: 1s - loss: 0.2278 - accuracy: 0.91 - ETA: 1s - loss: 0.2286 - accuracy: 0.91 - ETA: 1s - loss: 0.2314 - accuracy: 0.91 - ETA: 1s - loss: 0.2306 - accuracy: 0.91 - ETA: 1s - loss: 0.2293 - accuracy: 0.91 - ETA: 1s - loss: 0.2296 - accuracy: 0.91 - ETA: 1s - loss: 0.2298 - accuracy: 0.91 - ETA: 1s - loss: 0.2305 - accuracy: 0.91 - ETA: 1s - loss: 0.2305 - accuracy: 0.91 - ETA: 1s - loss: 0.2305 - accuracy: 0.91 - ETA: 1s - loss: 0.2304 - accuracy: 0.91 - ETA: 0s - loss: 0.2308 - accuracy: 0.91 - ETA: 0s - loss: 0.2303 - accuracy: 0.91 - ETA: 0s - loss: 0.2310 - accuracy: 0.91 - ETA: 0s - loss: 0.2309 - accuracy: 0.91 - ETA: 0s - loss: 0.2302 - accuracy: 0.91 - ETA: 0s - loss: 0.2299 - accuracy: 0.91 - ETA: 0s - loss: 0.2304 - accuracy: 0.91 - ETA: 0s - loss: 0.2308 - accuracy: 0.91 - ETA: 0s - loss: 0.2315 - accuracy: 0.91 - ETA: 0s - loss: 0.2322 - accuracy: 0.91 - ETA: 0s - loss: 0.2333 - accuracy: 0.91 - ETA: 0s - loss: 0.2333 - accuracy: 0.91 - ETA: 0s - loss: 0.2334 - accuracy: 0.91 - ETA: 0s - loss: 0.2334 - accuracy: 0.91 - ETA: 0s - loss: 0.2327 - accuracy: 0.91 - ETA: 0s - loss: 0.2333 - accuracy: 0.91 - ETA: 0s - loss: 0.2342 - accuracy: 0.91 - ETA: 0s - loss: 0.2349 - accuracy: 0.91 - ETA: 0s - loss: 0.2353 - accuracy: 0.91 - 2s 1ms/step - loss: 0.2353 - accuracy: 0.9115 - val_loss: 0.3337 - val_accuracy: 0.8843\n",
      "Epoch 10/10\n",
      "1875/1875 [==============================] - ETA: 0s - loss: 0.3398 - accuracy: 0.87 - ETA: 2s - loss: 0.2197 - accuracy: 0.92 - ETA: 1s - loss: 0.2147 - accuracy: 0.92 - ETA: 1s - loss: 0.2011 - accuracy: 0.92 - ETA: 1s - loss: 0.2103 - accuracy: 0.92 - ETA: 1s - loss: 0.2106 - accuracy: 0.92 - ETA: 1s - loss: 0.2096 - accuracy: 0.92 - ETA: 1s - loss: 0.2093 - accuracy: 0.92 - ETA: 1s - loss: 0.2131 - accuracy: 0.92 - ETA: 1s - loss: 0.2159 - accuracy: 0.92 - ETA: 1s - loss: 0.2171 - accuracy: 0.92 - ETA: 1s - loss: 0.2171 - accuracy: 0.92 - ETA: 1s - loss: 0.2147 - accuracy: 0.92 - ETA: 1s - loss: 0.2170 - accuracy: 0.92 - ETA: 1s - loss: 0.2165 - accuracy: 0.92 - ETA: 1s - loss: 0.2176 - accuracy: 0.91 - ETA: 1s - loss: 0.2186 - accuracy: 0.91 - ETA: 1s - loss: 0.2181 - accuracy: 0.91 - ETA: 1s - loss: 0.2187 - accuracy: 0.91 - ETA: 1s - loss: 0.2176 - accuracy: 0.91 - ETA: 1s - loss: 0.2191 - accuracy: 0.91 - ETA: 0s - loss: 0.2202 - accuracy: 0.91 - ETA: 0s - loss: 0.2199 - accuracy: 0.91 - ETA: 0s - loss: 0.2217 - accuracy: 0.91 - ETA: 0s - loss: 0.2224 - accuracy: 0.91 - ETA: 0s - loss: 0.2226 - accuracy: 0.91 - ETA: 0s - loss: 0.2222 - accuracy: 0.91 - ETA: 0s - loss: 0.2226 - accuracy: 0.91 - ETA: 0s - loss: 0.2223 - accuracy: 0.91 - ETA: 0s - loss: 0.2234 - accuracy: 0.91 - ETA: 0s - loss: 0.2236 - accuracy: 0.91 - ETA: 0s - loss: 0.2234 - accuracy: 0.91 - ETA: 0s - loss: 0.2241 - accuracy: 0.91 - ETA: 0s - loss: 0.2239 - accuracy: 0.91 - ETA: 0s - loss: 0.2245 - accuracy: 0.91 - ETA: 0s - loss: 0.2255 - accuracy: 0.91 - ETA: 0s - loss: 0.2258 - accuracy: 0.91 - ETA: 0s - loss: 0.2253 - accuracy: 0.91 - ETA: 0s - loss: 0.2252 - accuracy: 0.91 - ETA: 0s - loss: 0.2265 - accuracy: 0.91 - ETA: 0s - loss: 0.2272 - accuracy: 0.91 - ETA: 0s - loss: 0.2279 - accuracy: 0.91 - 2s 1ms/step - loss: 0.2278 - accuracy: 0.9146 - val_loss: 0.3433 - val_accuracy: 0.8766\n"
     ]
    },
    {
     "data": {
      "text/plain": [
       "<tensorflow.python.keras.callbacks.History at 0x7f874be31a20>"
      ]
     },
     "execution_count": 10,
     "metadata": {},
     "output_type": "execute_result"
    }
   ],
   "source": [
    "# Build the model with the optimal hyperparameters and train it on the data\n",
    "model = tuner.hypermodel.build(best_hps)\n",
    "model.fit(img_train, label_train, epochs = 10, validation_data = (img_test, label_test))"
   ]
  },
  {
   "cell_type": "code",
   "execution_count": 12,
   "metadata": {},
   "outputs": [
    {
     "name": "stdout",
     "output_type": "stream",
     "text": [
      "313/313 [==============================] - ETA: 0s - loss: 0.4699 - accuracy: 0.84 - ETA: 0s - loss: 0.3220 - accuracy: 0.87 - ETA: 0s - loss: 0.3258 - accuracy: 0.87 - ETA: 0s - loss: 0.3460 - accuracy: 0.87 - ETA: 0s - loss: 0.3593 - accuracy: 0.87 - ETA: 0s - loss: 0.3508 - accuracy: 0.87 - ETA: 0s - loss: 0.3473 - accuracy: 0.87 - 0s 1ms/step - loss: 0.3433 - accuracy: 0.8766\n"
     ]
    }
   ],
   "source": [
    "result = model.evaluate(img_test, label_test)"
   ]
  },
  {
   "cell_type": "code",
   "execution_count": 14,
   "metadata": {},
   "outputs": [],
   "source": [
    "loss, acc = result"
   ]
  },
  {
   "cell_type": "code",
   "execution_count": 16,
   "metadata": {},
   "outputs": [
    {
     "data": {
      "text/plain": [
       "87.66000270843506"
      ]
     },
     "execution_count": 16,
     "metadata": {},
     "output_type": "execute_result"
    }
   ],
   "source": [
    "acc * 100"
   ]
  }
 ],
 "metadata": {
  "kernelspec": {
   "display_name": "Python 3",
   "language": "python",
   "name": "python3"
  },
  "language_info": {
   "codemirror_mode": {
    "name": "ipython",
    "version": 3
   },
   "file_extension": ".py",
   "mimetype": "text/x-python",
   "name": "python",
   "nbconvert_exporter": "python",
   "pygments_lexer": "ipython3",
   "version": "3.6.9"
  }
 },
 "nbformat": 4,
 "nbformat_minor": 2
}
