{
 "cells": [
  {
   "cell_type": "code",
   "execution_count": 2,
   "metadata": {},
   "outputs": [
    {
     "name": "stdout",
     "output_type": "stream",
     "text": [
      "\u001b[33mWARNING: You are using pip version 20.1.1; however, version 20.2.2 is available.\r\n",
      "You should consider upgrading via the '/usr/bin/python3 -m pip install --upgrade pip' command.\u001b[0m\r\n"
     ]
    }
   ],
   "source": [
    "!pip install -q pandas"
   ]
  },
  {
   "cell_type": "code",
   "execution_count": 3,
   "metadata": {},
   "outputs": [
    {
     "data": {
      "text/html": [
       "<style>.container { width:100% !important; }</style>"
      ],
      "text/plain": [
       "<IPython.core.display.HTML object>"
      ]
     },
     "metadata": {},
     "output_type": "display_data"
    }
   ],
   "source": [
    "import tensorflow as tf\n",
    "import pandas as pd\n",
    "import numpy as np\n",
    "\n",
    "from IPython.core.display import display, HTML\n",
    "display(HTML(\"<style>.container { width:100% !important; }</style>\"))"
   ]
  },
  {
   "cell_type": "code",
   "execution_count": 4,
   "metadata": {},
   "outputs": [],
   "source": [
    "CSV_COLUMN_NAMES = ['SepalLength', 'SepalWidth', 'PetalLength', 'PetalWidth', 'Species']\n",
    "SPECIES = ['Setosa', 'Versicolor', 'Virginica']"
   ]
  },
  {
   "cell_type": "code",
   "execution_count": 5,
   "metadata": {},
   "outputs": [
    {
     "name": "stdout",
     "output_type": "stream",
     "text": [
      "Downloading data from https://storage.googleapis.com/download.tensorflow.org/data/iris_training.csv\n",
      "8192/2194 [================================================================================================================] - 0s 0us/step\n",
      "Downloading data from https://storage.googleapis.com/download.tensorflow.org/data/iris_test.csv\n",
      "8192/573 [============================================================================================================================================================================================================================================================================================================================================================================================================================================] - 0s 0us/step\n"
     ]
    }
   ],
   "source": [
    "train_path = tf.keras.utils.get_file(\n",
    "    \"iris_training.csv\", \"https://storage.googleapis.com/download.tensorflow.org/data/iris_training.csv\")\n",
    "test_path = tf.keras.utils.get_file(\n",
    "    \"iris_test.csv\", \"https://storage.googleapis.com/download.tensorflow.org/data/iris_test.csv\")\n",
    "\n",
    "train = pd.read_csv(train_path, names=CSV_COLUMN_NAMES, header=0)\n",
    "test = pd.read_csv(test_path, names=CSV_COLUMN_NAMES, header=0)"
   ]
  },
  {
   "cell_type": "code",
   "execution_count": 6,
   "metadata": {},
   "outputs": [
    {
     "data": {
      "text/html": [
       "<div>\n",
       "<style scoped>\n",
       "    .dataframe tbody tr th:only-of-type {\n",
       "        vertical-align: middle;\n",
       "    }\n",
       "\n",
       "    .dataframe tbody tr th {\n",
       "        vertical-align: top;\n",
       "    }\n",
       "\n",
       "    .dataframe thead th {\n",
       "        text-align: right;\n",
       "    }\n",
       "</style>\n",
       "<table border=\"1\" class=\"dataframe\">\n",
       "  <thead>\n",
       "    <tr style=\"text-align: right;\">\n",
       "      <th></th>\n",
       "      <th>SepalLength</th>\n",
       "      <th>SepalWidth</th>\n",
       "      <th>PetalLength</th>\n",
       "      <th>PetalWidth</th>\n",
       "      <th>Species</th>\n",
       "    </tr>\n",
       "  </thead>\n",
       "  <tbody>\n",
       "    <tr>\n",
       "      <th>0</th>\n",
       "      <td>6.4</td>\n",
       "      <td>2.8</td>\n",
       "      <td>5.6</td>\n",
       "      <td>2.2</td>\n",
       "      <td>2</td>\n",
       "    </tr>\n",
       "    <tr>\n",
       "      <th>1</th>\n",
       "      <td>5.0</td>\n",
       "      <td>2.3</td>\n",
       "      <td>3.3</td>\n",
       "      <td>1.0</td>\n",
       "      <td>1</td>\n",
       "    </tr>\n",
       "    <tr>\n",
       "      <th>2</th>\n",
       "      <td>4.9</td>\n",
       "      <td>2.5</td>\n",
       "      <td>4.5</td>\n",
       "      <td>1.7</td>\n",
       "      <td>2</td>\n",
       "    </tr>\n",
       "    <tr>\n",
       "      <th>3</th>\n",
       "      <td>4.9</td>\n",
       "      <td>3.1</td>\n",
       "      <td>1.5</td>\n",
       "      <td>0.1</td>\n",
       "      <td>0</td>\n",
       "    </tr>\n",
       "    <tr>\n",
       "      <th>4</th>\n",
       "      <td>5.7</td>\n",
       "      <td>3.8</td>\n",
       "      <td>1.7</td>\n",
       "      <td>0.3</td>\n",
       "      <td>0</td>\n",
       "    </tr>\n",
       "  </tbody>\n",
       "</table>\n",
       "</div>"
      ],
      "text/plain": [
       "   SepalLength  SepalWidth  PetalLength  PetalWidth  Species\n",
       "0          6.4         2.8          5.6         2.2        2\n",
       "1          5.0         2.3          3.3         1.0        1\n",
       "2          4.9         2.5          4.5         1.7        2\n",
       "3          4.9         3.1          1.5         0.1        0\n",
       "4          5.7         3.8          1.7         0.3        0"
      ]
     },
     "execution_count": 6,
     "metadata": {},
     "output_type": "execute_result"
    }
   ],
   "source": [
    "train.head()"
   ]
  },
  {
   "cell_type": "code",
   "execution_count": 7,
   "metadata": {},
   "outputs": [
    {
     "data": {
      "text/html": [
       "<div>\n",
       "<style scoped>\n",
       "    .dataframe tbody tr th:only-of-type {\n",
       "        vertical-align: middle;\n",
       "    }\n",
       "\n",
       "    .dataframe tbody tr th {\n",
       "        vertical-align: top;\n",
       "    }\n",
       "\n",
       "    .dataframe thead th {\n",
       "        text-align: right;\n",
       "    }\n",
       "</style>\n",
       "<table border=\"1\" class=\"dataframe\">\n",
       "  <thead>\n",
       "    <tr style=\"text-align: right;\">\n",
       "      <th></th>\n",
       "      <th>SepalLength</th>\n",
       "      <th>SepalWidth</th>\n",
       "      <th>PetalLength</th>\n",
       "      <th>PetalWidth</th>\n",
       "    </tr>\n",
       "  </thead>\n",
       "  <tbody>\n",
       "    <tr>\n",
       "      <th>0</th>\n",
       "      <td>6.4</td>\n",
       "      <td>2.8</td>\n",
       "      <td>5.6</td>\n",
       "      <td>2.2</td>\n",
       "    </tr>\n",
       "    <tr>\n",
       "      <th>1</th>\n",
       "      <td>5.0</td>\n",
       "      <td>2.3</td>\n",
       "      <td>3.3</td>\n",
       "      <td>1.0</td>\n",
       "    </tr>\n",
       "    <tr>\n",
       "      <th>2</th>\n",
       "      <td>4.9</td>\n",
       "      <td>2.5</td>\n",
       "      <td>4.5</td>\n",
       "      <td>1.7</td>\n",
       "    </tr>\n",
       "    <tr>\n",
       "      <th>3</th>\n",
       "      <td>4.9</td>\n",
       "      <td>3.1</td>\n",
       "      <td>1.5</td>\n",
       "      <td>0.1</td>\n",
       "    </tr>\n",
       "    <tr>\n",
       "      <th>4</th>\n",
       "      <td>5.7</td>\n",
       "      <td>3.8</td>\n",
       "      <td>1.7</td>\n",
       "      <td>0.3</td>\n",
       "    </tr>\n",
       "  </tbody>\n",
       "</table>\n",
       "</div>"
      ],
      "text/plain": [
       "   SepalLength  SepalWidth  PetalLength  PetalWidth\n",
       "0          6.4         2.8          5.6         2.2\n",
       "1          5.0         2.3          3.3         1.0\n",
       "2          4.9         2.5          4.5         1.7\n",
       "3          4.9         3.1          1.5         0.1\n",
       "4          5.7         3.8          1.7         0.3"
      ]
     },
     "execution_count": 7,
     "metadata": {},
     "output_type": "execute_result"
    }
   ],
   "source": [
    "train_y = train.pop('Species')\n",
    "test_y = test.pop('Species')\n",
    "\n",
    "train.head()"
   ]
  },
  {
   "cell_type": "code",
   "execution_count": 8,
   "metadata": {},
   "outputs": [],
   "source": [
    "def input_fn(features, labels, training=True, batch_size=256):\n",
    "    \"\"\"An input function for training or evaluating\"\"\"\n",
    "    dataset = tf.data.Dataset.from_tensor_slices((dict(features), labels))\n",
    "    \n",
    "    if training:\n",
    "        dataset = dataset.shuffle(1000).repeat()\n",
    "        \n",
    "    return dataset.batch(batch_size)"
   ]
  },
  {
   "cell_type": "code",
   "execution_count": 9,
   "metadata": {},
   "outputs": [],
   "source": [
    "# Feature columns describe how to use the input.\n",
    "# Estimator 모델에 4개의 특성을 각각 32비트 부동 소수점 값으로 나타내도록 지시하는 특성 열 목록을 작성합니다.\n",
    "my_feature_columns = []\n",
    "for key in train.keys():\n",
    "    my_feature_columns.append(tf.feature_column.numeric_column(key=key))"
   ]
  },
  {
   "cell_type": "code",
   "execution_count": 10,
   "metadata": {},
   "outputs": [
    {
     "data": {
      "text/plain": [
       "[NumericColumn(key='SepalLength', shape=(1,), default_value=None, dtype=tf.float32, normalizer_fn=None),\n",
       " NumericColumn(key='SepalWidth', shape=(1,), default_value=None, dtype=tf.float32, normalizer_fn=None),\n",
       " NumericColumn(key='PetalLength', shape=(1,), default_value=None, dtype=tf.float32, normalizer_fn=None),\n",
       " NumericColumn(key='PetalWidth', shape=(1,), default_value=None, dtype=tf.float32, normalizer_fn=None)]"
      ]
     },
     "execution_count": 10,
     "metadata": {},
     "output_type": "execute_result"
    }
   ],
   "source": [
    "my_feature_columns"
   ]
  },
  {
   "cell_type": "code",
   "execution_count": 11,
   "metadata": {},
   "outputs": [
    {
     "name": "stdout",
     "output_type": "stream",
     "text": [
      "INFO:tensorflow:Using default config.\n",
      "WARNING:tensorflow:Using temporary folder as model directory: /tmp/tmpb289wdv5\n",
      "INFO:tensorflow:Using config: {'_model_dir': '/tmp/tmpb289wdv5', '_tf_random_seed': None, '_save_summary_steps': 100, '_save_checkpoints_steps': None, '_save_checkpoints_secs': 600, '_session_config': allow_soft_placement: true\n",
      "graph_options {\n",
      "  rewrite_options {\n",
      "    meta_optimizer_iterations: ONE\n",
      "  }\n",
      "}\n",
      ", '_keep_checkpoint_max': 5, '_keep_checkpoint_every_n_hours': 10000, '_log_step_count_steps': 100, '_train_distribute': None, '_device_fn': None, '_protocol': None, '_eval_distribute': None, '_experimental_distribute': None, '_experimental_max_worker_delay_secs': None, '_session_creation_timeout_secs': 7200, '_service': None, '_cluster_spec': ClusterSpec({}), '_task_type': 'worker', '_task_id': 0, '_global_id_in_cluster': 0, '_master': '', '_evaluation_master': '', '_is_chief': True, '_num_ps_replicas': 0, '_num_worker_replicas': 1}\n"
     ]
    }
   ],
   "source": [
    "# Build a DNN with 2 hidden layers with 30 and 10 hidden nodes each.\n",
    "classifier = tf.estimator.DNNClassifier(\n",
    "    feature_columns=my_feature_columns,\n",
    "    # Two hidden layers of 30 and 10 nodes respectively.\n",
    "    hidden_units=[30, 10],\n",
    "    # The model must choose between 3 classes.\n",
    "    n_classes=3)"
   ]
  },
  {
   "cell_type": "code",
   "execution_count": 14,
   "metadata": {
    "scrolled": true
   },
   "outputs": [
    {
     "name": "stdout",
     "output_type": "stream",
     "text": [
      "WARNING:tensorflow:From /usr/local/lib/python3.6/dist-packages/tensorflow/python/training/training_util.py:236: Variable.initialized_value (from tensorflow.python.ops.variables) is deprecated and will be removed in a future version.\n",
      "Instructions for updating:\n",
      "Use Variable.read_value. Variables in 2.X are initialized automatically both in eager and graph (inside tf.defun) contexts.\n",
      "INFO:tensorflow:Calling model_fn.\n",
      "WARNING:tensorflow:Layer dnn is casting an input tensor from dtype float64 to the layer's dtype of float32, which is new behavior in TensorFlow 2.  The layer has dtype float32 because its dtype defaults to floatx.\n",
      "\n",
      "If you intended to run this layer in float32, you can safely ignore this warning. If in doubt, this warning is likely only an issue if you are porting a TensorFlow 1.X model to TensorFlow 2.\n",
      "\n",
      "To change all layers to have dtype float64 by default, call `tf.keras.backend.set_floatx('float64')`. To change just this layer, pass dtype='float64' to the layer constructor. If you are the author of this layer, you can disable autocasting by passing autocast=False to the base Layer constructor.\n",
      "\n",
      "WARNING:tensorflow:From /usr/local/lib/python3.6/dist-packages/tensorflow/python/keras/optimizer_v2/adagrad.py:83: calling Constant.__init__ (from tensorflow.python.ops.init_ops) with dtype is deprecated and will be removed in a future version.\n",
      "Instructions for updating:\n",
      "Call initializer instance with the dtype argument instead of passing it to the constructor\n",
      "INFO:tensorflow:Done calling model_fn.\n",
      "INFO:tensorflow:Create CheckpointSaverHook.\n",
      "INFO:tensorflow:Graph was finalized.\n",
      "INFO:tensorflow:Running local_init_op.\n",
      "INFO:tensorflow:Done running local_init_op.\n",
      "INFO:tensorflow:Calling checkpoint listeners before saving checkpoint 0...\n",
      "INFO:tensorflow:Saving checkpoints for 0 into /tmp/tmpb289wdv5/model.ckpt.\n",
      "INFO:tensorflow:Calling checkpoint listeners after saving checkpoint 0...\n",
      "INFO:tensorflow:loss = 2.1520627, step = 0\n",
      "INFO:tensorflow:global_step/sec: 379.329\n",
      "INFO:tensorflow:loss = 1.4205868, step = 100 (0.265 sec)\n",
      "INFO:tensorflow:global_step/sec: 440.692\n",
      "INFO:tensorflow:loss = 1.2004553, step = 200 (0.226 sec)\n",
      "INFO:tensorflow:global_step/sec: 433.639\n",
      "INFO:tensorflow:loss = 1.060406, step = 300 (0.231 sec)\n",
      "INFO:tensorflow:global_step/sec: 446.578\n",
      "INFO:tensorflow:loss = 0.96374863, step = 400 (0.224 sec)\n",
      "INFO:tensorflow:global_step/sec: 436.506\n",
      "INFO:tensorflow:loss = 0.84022737, step = 500 (0.229 sec)\n",
      "INFO:tensorflow:global_step/sec: 420.913\n",
      "INFO:tensorflow:loss = 0.80685186, step = 600 (0.238 sec)\n",
      "INFO:tensorflow:global_step/sec: 414.594\n",
      "INFO:tensorflow:loss = 0.7454244, step = 700 (0.241 sec)\n",
      "INFO:tensorflow:global_step/sec: 440.272\n",
      "INFO:tensorflow:loss = 0.72434664, step = 800 (0.227 sec)\n",
      "INFO:tensorflow:global_step/sec: 430.215\n",
      "INFO:tensorflow:loss = 0.69984573, step = 900 (0.233 sec)\n",
      "INFO:tensorflow:global_step/sec: 419.039\n",
      "INFO:tensorflow:loss = 0.669106, step = 1000 (0.239 sec)\n",
      "INFO:tensorflow:global_step/sec: 424.203\n",
      "INFO:tensorflow:loss = 0.65498716, step = 1100 (0.235 sec)\n",
      "INFO:tensorflow:global_step/sec: 425.455\n",
      "INFO:tensorflow:loss = 0.63830185, step = 1200 (0.235 sec)\n",
      "INFO:tensorflow:global_step/sec: 430.815\n",
      "INFO:tensorflow:loss = 0.6263126, step = 1300 (0.232 sec)\n",
      "INFO:tensorflow:global_step/sec: 434.384\n",
      "INFO:tensorflow:loss = 0.6148602, step = 1400 (0.231 sec)\n",
      "INFO:tensorflow:global_step/sec: 427.981\n",
      "INFO:tensorflow:loss = 0.60086924, step = 1500 (0.234 sec)\n",
      "INFO:tensorflow:global_step/sec: 444.986\n",
      "INFO:tensorflow:loss = 0.5978677, step = 1600 (0.225 sec)\n",
      "INFO:tensorflow:global_step/sec: 431.63\n",
      "INFO:tensorflow:loss = 0.5690243, step = 1700 (0.230 sec)\n",
      "INFO:tensorflow:global_step/sec: 443.679\n",
      "INFO:tensorflow:loss = 0.5645646, step = 1800 (0.226 sec)\n",
      "INFO:tensorflow:global_step/sec: 410.169\n",
      "INFO:tensorflow:loss = 0.55846137, step = 1900 (0.244 sec)\n",
      "INFO:tensorflow:global_step/sec: 430.648\n",
      "INFO:tensorflow:loss = 0.5552116, step = 2000 (0.232 sec)\n",
      "INFO:tensorflow:global_step/sec: 428.159\n",
      "INFO:tensorflow:loss = 0.53970736, step = 2100 (0.234 sec)\n",
      "INFO:tensorflow:global_step/sec: 418.141\n",
      "INFO:tensorflow:loss = 0.5356731, step = 2200 (0.239 sec)\n",
      "INFO:tensorflow:global_step/sec: 431.551\n",
      "INFO:tensorflow:loss = 0.5039684, step = 2300 (0.232 sec)\n",
      "INFO:tensorflow:global_step/sec: 429.74\n",
      "INFO:tensorflow:loss = 0.50362706, step = 2400 (0.233 sec)\n",
      "INFO:tensorflow:global_step/sec: 408.056\n",
      "INFO:tensorflow:loss = 0.5060275, step = 2500 (0.245 sec)\n",
      "INFO:tensorflow:global_step/sec: 425.549\n",
      "INFO:tensorflow:loss = 0.49185354, step = 2600 (0.235 sec)\n",
      "INFO:tensorflow:global_step/sec: 417.743\n",
      "INFO:tensorflow:loss = 0.4895603, step = 2700 (0.239 sec)\n",
      "INFO:tensorflow:global_step/sec: 435.874\n",
      "INFO:tensorflow:loss = 0.477105, step = 2800 (0.229 sec)\n",
      "INFO:tensorflow:global_step/sec: 440.795\n",
      "INFO:tensorflow:loss = 0.47713137, step = 2900 (0.227 sec)\n",
      "INFO:tensorflow:global_step/sec: 436.683\n",
      "INFO:tensorflow:loss = 0.4687174, step = 3000 (0.230 sec)\n",
      "INFO:tensorflow:global_step/sec: 438.121\n",
      "INFO:tensorflow:loss = 0.4631105, step = 3100 (0.227 sec)\n",
      "INFO:tensorflow:global_step/sec: 407.77\n",
      "INFO:tensorflow:loss = 0.46155465, step = 3200 (0.246 sec)\n",
      "INFO:tensorflow:global_step/sec: 449.93\n",
      "INFO:tensorflow:loss = 0.4564488, step = 3300 (0.222 sec)\n",
      "INFO:tensorflow:global_step/sec: 412.482\n",
      "INFO:tensorflow:loss = 0.455803, step = 3400 (0.242 sec)\n",
      "INFO:tensorflow:global_step/sec: 446.261\n",
      "INFO:tensorflow:loss = 0.45406568, step = 3500 (0.224 sec)\n",
      "INFO:tensorflow:global_step/sec: 435.26\n",
      "INFO:tensorflow:loss = 0.44604352, step = 3600 (0.230 sec)\n",
      "INFO:tensorflow:global_step/sec: 429.562\n",
      "INFO:tensorflow:loss = 0.4392465, step = 3700 (0.233 sec)\n",
      "INFO:tensorflow:global_step/sec: 433.192\n",
      "INFO:tensorflow:loss = 0.4368548, step = 3800 (0.231 sec)\n",
      "INFO:tensorflow:global_step/sec: 429.008\n",
      "INFO:tensorflow:loss = 0.4377684, step = 3900 (0.233 sec)\n",
      "INFO:tensorflow:global_step/sec: 425.741\n",
      "INFO:tensorflow:loss = 0.44685555, step = 4000 (0.235 sec)\n",
      "INFO:tensorflow:global_step/sec: 432.239\n",
      "INFO:tensorflow:loss = 0.43653184, step = 4100 (0.231 sec)\n",
      "INFO:tensorflow:global_step/sec: 442.275\n",
      "INFO:tensorflow:loss = 0.42914897, step = 4200 (0.226 sec)\n",
      "INFO:tensorflow:global_step/sec: 429.673\n",
      "INFO:tensorflow:loss = 0.4122861, step = 4300 (0.233 sec)\n",
      "INFO:tensorflow:global_step/sec: 425.915\n",
      "INFO:tensorflow:loss = 0.42943662, step = 4400 (0.235 sec)\n",
      "INFO:tensorflow:global_step/sec: 402.942\n",
      "INFO:tensorflow:loss = 0.418894, step = 4500 (0.248 sec)\n",
      "INFO:tensorflow:global_step/sec: 425.301\n",
      "INFO:tensorflow:loss = 0.4087557, step = 4600 (0.235 sec)\n",
      "INFO:tensorflow:global_step/sec: 434.625\n",
      "INFO:tensorflow:loss = 0.40724304, step = 4700 (0.230 sec)\n",
      "INFO:tensorflow:global_step/sec: 399.489\n",
      "INFO:tensorflow:loss = 0.42076552, step = 4800 (0.250 sec)\n",
      "INFO:tensorflow:global_step/sec: 431.478\n",
      "INFO:tensorflow:loss = 0.39945033, step = 4900 (0.232 sec)\n",
      "INFO:tensorflow:Calling checkpoint listeners before saving checkpoint 5000...\n",
      "INFO:tensorflow:Saving checkpoints for 5000 into /tmp/tmpb289wdv5/model.ckpt.\n",
      "INFO:tensorflow:Calling checkpoint listeners after saving checkpoint 5000...\n",
      "INFO:tensorflow:Loss for final step: 0.4005649.\n"
     ]
    },
    {
     "data": {
      "text/plain": [
       "<tensorflow_estimator.python.estimator.canned.dnn.DNNClassifierV2 at 0x7ff214b63ac8>"
      ]
     },
     "execution_count": 14,
     "metadata": {},
     "output_type": "execute_result"
    }
   ],
   "source": [
    "classifier.train(\n",
    "    input_fn=lambda: input_fn(train, train_y, training=True),\n",
    "    steps=5000)"
   ]
  },
  {
   "cell_type": "code",
   "execution_count": 15,
   "metadata": {
    "scrolled": true
   },
   "outputs": [
    {
     "name": "stdout",
     "output_type": "stream",
     "text": [
      "INFO:tensorflow:Calling model_fn.\n",
      "WARNING:tensorflow:Layer dnn is casting an input tensor from dtype float64 to the layer's dtype of float32, which is new behavior in TensorFlow 2.  The layer has dtype float32 because its dtype defaults to floatx.\n",
      "\n",
      "If you intended to run this layer in float32, you can safely ignore this warning. If in doubt, this warning is likely only an issue if you are porting a TensorFlow 1.X model to TensorFlow 2.\n",
      "\n",
      "To change all layers to have dtype float64 by default, call `tf.keras.backend.set_floatx('float64')`. To change just this layer, pass dtype='float64' to the layer constructor. If you are the author of this layer, you can disable autocasting by passing autocast=False to the base Layer constructor.\n",
      "\n",
      "INFO:tensorflow:Done calling model_fn.\n",
      "INFO:tensorflow:Starting evaluation at 2020-08-26T09:57:18Z\n",
      "INFO:tensorflow:Graph was finalized.\n",
      "INFO:tensorflow:Restoring parameters from /tmp/tmpb289wdv5/model.ckpt-5000\n",
      "INFO:tensorflow:Running local_init_op.\n",
      "INFO:tensorflow:Done running local_init_op.\n",
      "INFO:tensorflow:Inference Time : 0.16063s\n",
      "INFO:tensorflow:Finished evaluation at 2020-08-26-09:57:18\n",
      "INFO:tensorflow:Saving dict for global step 5000: accuracy = 0.73333335, average_loss = 0.49523526, global_step = 5000, loss = 0.49523526\n",
      "INFO:tensorflow:Saving 'checkpoint_path' summary for global step 5000: /tmp/tmpb289wdv5/model.ckpt-5000\n",
      "\n",
      "Test set accuracy: 0.733\n",
      "\n"
     ]
    }
   ],
   "source": [
    "eval_result = classifier.evaluate(\n",
    "    input_fn=lambda: input_fn(test, test_y, training=False))\n",
    "\n",
    "print('\\nTest set accuracy: {accuracy:0.3f}\\n'.format(**eval_result))"
   ]
  },
  {
   "cell_type": "code",
   "execution_count": 16,
   "metadata": {},
   "outputs": [],
   "source": [
    "# Generate predictions from the model\n",
    "expected = ['Setosa', 'Versicolor', 'Virginica']\n",
    "predict_x = {\n",
    "    'SepalLength': [5.1, 5.9, 6.9],\n",
    "    'SepalWidth': [3.3, 3.0, 3.1],\n",
    "    'PetalLength': [1.7, 4.2, 5.4],\n",
    "    'PetalWidth': [0.5, 1.5, 2.1],\n",
    "}\n",
    "\n",
    "def input_fn(features, batch_size=256):\n",
    "    \"\"\"An input function for prediction.\"\"\"\n",
    "    # Convert the inputs to a Dataset without labels.\n",
    "    return tf.data.Dataset.from_tensor_slices(dict(features)).batch(batch_size)\n",
    "\n",
    "predictions = classifier.predict(\n",
    "    input_fn=lambda: input_fn(predict_x))"
   ]
  },
  {
   "cell_type": "code",
   "execution_count": 17,
   "metadata": {},
   "outputs": [
    {
     "name": "stdout",
     "output_type": "stream",
     "text": [
      "INFO:tensorflow:Calling model_fn.\n",
      "INFO:tensorflow:Done calling model_fn.\n",
      "INFO:tensorflow:Graph was finalized.\n",
      "INFO:tensorflow:Restoring parameters from /tmp/tmpb289wdv5/model.ckpt-5000\n",
      "INFO:tensorflow:Running local_init_op.\n",
      "INFO:tensorflow:Done running local_init_op.\n",
      "Prediction is \"Setosa\" (88.4%), expected \"Setosa\"\n",
      "Prediction is \"Virginica\" (48.5%), expected \"Versicolor\"\n",
      "Prediction is \"Virginica\" (63.9%), expected \"Virginica\"\n"
     ]
    }
   ],
   "source": [
    "for pred_dict, expec in zip(predictions, expected):\n",
    "    class_id = pred_dict['class_ids'][0]\n",
    "    probability = pred_dict['probabilities'][class_id]\n",
    "\n",
    "    print('Prediction is \"{}\" ({:.1f}%), expected \"{}\"'.format(\n",
    "        SPECIES[class_id], 100 * probability, expec))"
   ]
  },
  {
   "cell_type": "code",
   "execution_count": null,
   "metadata": {},
   "outputs": [],
   "source": []
  }
 ],
 "metadata": {
  "kernelspec": {
   "display_name": "Python 3",
   "language": "python",
   "name": "python3"
  },
  "language_info": {
   "codemirror_mode": {
    "name": "ipython",
    "version": 3
   },
   "file_extension": ".py",
   "mimetype": "text/x-python",
   "name": "python",
   "nbconvert_exporter": "python",
   "pygments_lexer": "ipython3",
   "version": "3.6.9"
  }
 },
 "nbformat": 4,
 "nbformat_minor": 2
}
