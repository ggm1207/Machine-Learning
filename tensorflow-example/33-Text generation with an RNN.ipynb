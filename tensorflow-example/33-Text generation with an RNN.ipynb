{
 "cells": [
  {
   "cell_type": "code",
   "execution_count": 1,
   "metadata": {},
   "outputs": [
    {
     "data": {
      "text/html": [
       "<style>.container { width:100% !important; }</style>"
      ],
      "text/plain": [
       "<IPython.core.display.HTML object>"
      ]
     },
     "metadata": {},
     "output_type": "display_data"
    }
   ],
   "source": [
    "from IPython.core.display import display, HTML\n",
    "display(HTML(\"<style>.container { width:100% !important; }</style>\"))"
   ]
  },
  {
   "cell_type": "code",
   "execution_count": 2,
   "metadata": {},
   "outputs": [],
   "source": [
    "import tensorflow as tf\n",
    "\n",
    "import numpy as np\n",
    "import os\n",
    "import time"
   ]
  },
  {
   "cell_type": "code",
   "execution_count": 3,
   "metadata": {},
   "outputs": [],
   "source": [
    "path_to_file = tf.keras.utils.get_file('shakespeare.txt', 'https://storage.googleapis.com/download.tensorflow.org/data/shakespeare.txt')"
   ]
  },
  {
   "cell_type": "code",
   "execution_count": 4,
   "metadata": {},
   "outputs": [
    {
     "data": {
      "text/plain": [
       "'/root/.keras/datasets/shakespeare.txt'"
      ]
     },
     "execution_count": 4,
     "metadata": {},
     "output_type": "execute_result"
    }
   ],
   "source": [
    "path_to_file"
   ]
  },
  {
   "cell_type": "code",
   "execution_count": 5,
   "metadata": {},
   "outputs": [
    {
     "data": {
      "text/plain": [
       "1115394"
      ]
     },
     "execution_count": 5,
     "metadata": {},
     "output_type": "execute_result"
    }
   ],
   "source": [
    "text = open(path_to_file, 'rb').read().decode(encoding='utf-8')\n",
    "\n",
    "len(text)"
   ]
  },
  {
   "cell_type": "code",
   "execution_count": 6,
   "metadata": {},
   "outputs": [
    {
     "name": "stdout",
     "output_type": "stream",
     "text": [
      "First Citizen:\n",
      "Before we proceed any further, hear me speak.\n",
      "\n",
      "All:\n",
      "Speak, speak.\n",
      "\n",
      "First Citizen:\n",
      "You are all resolved rather to die than to famish?\n",
      "\n",
      "All:\n",
      "Resolved. resolved.\n",
      "\n",
      "First Citizen:\n",
      "First, you know Caius Marcius is chief enemy to the people.\n",
      "\n"
     ]
    }
   ],
   "source": [
    "print(text[:250])"
   ]
  },
  {
   "cell_type": "code",
   "execution_count": 7,
   "metadata": {},
   "outputs": [],
   "source": [
    "vocab = sorted(set(text))"
   ]
  },
  {
   "cell_type": "code",
   "execution_count": 8,
   "metadata": {},
   "outputs": [],
   "source": [
    "char2idx = {u: i for i, u in enumerate(vocab)}\n",
    "idx2char = np.array(vocab)\n",
    "\n",
    "text_as_int = np.array([char2idx[c] for c in text])"
   ]
  },
  {
   "cell_type": "code",
   "execution_count": 9,
   "metadata": {},
   "outputs": [
    {
     "name": "stdout",
     "output_type": "stream",
     "text": [
      "{\n",
      "  '\\n':   0,\n",
      "  ' ' :   1,\n",
      "  '!' :   2,\n",
      "  '$' :   3,\n",
      "  '&' :   4,\n",
      "  \"'\" :   5,\n",
      "  ',' :   6,\n",
      "  '-' :   7,\n",
      "  '.' :   8,\n",
      "  '3' :   9,\n",
      "  ':' :  10,\n",
      "  ';' :  11,\n",
      "  '?' :  12,\n",
      "  'A' :  13,\n",
      "  'B' :  14,\n",
      "  'C' :  15,\n",
      "  'D' :  16,\n",
      "  'E' :  17,\n",
      "  'F' :  18,\n",
      "  'G' :  19,\n",
      "  ...\n",
      "}\n"
     ]
    }
   ],
   "source": [
    "print('{')\n",
    "for char,_ in zip(char2idx, range(20)):\n",
    "    print('  {:4s}: {:3d},'.format(repr(char), char2idx[char]))\n",
    "print('  ...\\n}')"
   ]
  },
  {
   "cell_type": "code",
   "execution_count": 10,
   "metadata": {},
   "outputs": [
    {
     "name": "stdout",
     "output_type": "stream",
     "text": [
      "'First Citizen' ---- 문자들이 다음의 정수로 매핑되었습니다 ---- > [18 47 56 57 58  1 15 47 58 47 64 43 52]\n"
     ]
    }
   ],
   "source": [
    "# 텍스트에서 처음 13개의 문자가 숫자로 어떻게 매핑되었는지를 보여줍니다\n",
    "print ('{} ---- 문자들이 다음의 정수로 매핑되었습니다 ---- > {}'.format(repr(text[:13]), text_as_int[:13]))"
   ]
  },
  {
   "cell_type": "code",
   "execution_count": 11,
   "metadata": {},
   "outputs": [
    {
     "data": {
      "text/plain": [
       "array([18, 47, 56, ..., 45,  8,  0])"
      ]
     },
     "execution_count": 11,
     "metadata": {},
     "output_type": "execute_result"
    }
   ],
   "source": [
    "text_as_int"
   ]
  },
  {
   "cell_type": "code",
   "execution_count": 12,
   "metadata": {},
   "outputs": [
    {
     "name": "stdout",
     "output_type": "stream",
     "text": [
      "F\n",
      "i\n",
      "r\n",
      "s\n",
      "t\n"
     ]
    }
   ],
   "source": [
    "seq_length = 100\n",
    "examples_per_epoch = len(text) // seq_length\n",
    "\n",
    "char_dataset = tf.data.Dataset.from_tensor_slices(text_as_int)\n",
    "\n",
    "for i in char_dataset.take(5):\n",
    "    print(idx2char[i.numpy()])"
   ]
  },
  {
   "cell_type": "markdown",
   "metadata": {},
   "source": [
    "drop_remainder: (Optional.) A `tf.bool` scalar `tf.Tensor`, representing\n",
    "        whether the last batch should be dropped in the case it has fewer than\n",
    "        `batch_size` elements; the default behavior is not to drop the smaller\n",
    "    batch."
   ]
  },
  {
   "cell_type": "code",
   "execution_count": 13,
   "metadata": {},
   "outputs": [
    {
     "name": "stdout",
     "output_type": "stream",
     "text": [
      "'First Citizen:\\nBefore we proceed any further, hear me speak.\\n\\nAll:\\nSpeak, speak.\\n\\nFirst Citizen:\\nYou '\n",
      "'are all resolved rather to die than to famish?\\n\\nAll:\\nResolved. resolved.\\n\\nFirst Citizen:\\nFirst, you k'\n",
      "\"now Caius Marcius is chief enemy to the people.\\n\\nAll:\\nWe know't, we know't.\\n\\nFirst Citizen:\\nLet us ki\"\n",
      "\"ll him, and we'll have corn at our own price.\\nIs't a verdict?\\n\\nAll:\\nNo more talking on't; let it be d\"\n",
      "'one: away, away!\\n\\nSecond Citizen:\\nOne word, good citizens.\\n\\nFirst Citizen:\\nWe are accounted poor citi'\n"
     ]
    }
   ],
   "source": [
    "sequences = char_dataset.batch(seq_length + 1, drop_remainder=True)\n",
    "\n",
    "for item in sequences.take(5):\n",
    "    print(repr(''.join(idx2char[item.numpy()])))"
   ]
  },
  {
   "cell_type": "code",
   "execution_count": 14,
   "metadata": {},
   "outputs": [],
   "source": [
    "def split_input_target(chunk):\n",
    "    input_text = chunk[:-1]\n",
    "    target_text = chunk[1:]\n",
    "    return input_text, target_text\n",
    "\n",
    "dataset = sequences.map(split_input_target)"
   ]
  },
  {
   "cell_type": "code",
   "execution_count": 15,
   "metadata": {},
   "outputs": [
    {
     "data": {
      "text/plain": [
       "<MapDataset shapes: ((100,), (100,)), types: (tf.int64, tf.int64)>"
      ]
     },
     "execution_count": 15,
     "metadata": {},
     "output_type": "execute_result"
    }
   ],
   "source": [
    "dataset"
   ]
  },
  {
   "cell_type": "code",
   "execution_count": 16,
   "metadata": {},
   "outputs": [
    {
     "data": {
      "text/plain": [
       "<BatchDataset shapes: ((64, 100), (64, 100)), types: (tf.int64, tf.int64)>"
      ]
     },
     "execution_count": 16,
     "metadata": {},
     "output_type": "execute_result"
    }
   ],
   "source": [
    "BATCH_SIZE = 64\n",
    "\n",
    "BUFFER_SIZE = 10000\n",
    "\n",
    "dataset = dataset.shuffle(BUFFER_SIZE).batch(BATCH_SIZE, drop_remainder=True)\n",
    "dataset"
   ]
  },
  {
   "cell_type": "code",
   "execution_count": 17,
   "metadata": {},
   "outputs": [],
   "source": [
    "vocab_size = len(vocab)\n",
    "\n",
    "embedding_dim = 256\n",
    "\n",
    "rnn_units = 1024"
   ]
  },
  {
   "cell_type": "code",
   "execution_count": 18,
   "metadata": {},
   "outputs": [],
   "source": [
    "def build_model(vocab_size, embedding_dim, rnn_units, batch_size):\n",
    "    model = tf.keras.Sequential([\n",
    "        tf.keras.layers.Embedding(vocab_size, embedding_dim, batch_input_shape=[batch_size, None]),\n",
    "        tf.keras.layers.LSTM(rnn_units, return_sequences=True, stateful=True, recurrent_initializer='glorot_uniform'),\n",
    "        tf.keras.layers.Dense(vocab_size)\n",
    "    ])\n",
    "    return model"
   ]
  },
  {
   "cell_type": "code",
   "execution_count": 19,
   "metadata": {},
   "outputs": [],
   "source": [
    "model = build_model(len(vocab), embedding_dim, rnn_units, BATCH_SIZE)"
   ]
  },
  {
   "cell_type": "code",
   "execution_count": 21,
   "metadata": {},
   "outputs": [
    {
     "name": "stdout",
     "output_type": "stream",
     "text": [
      "(64, 100, 65)\n"
     ]
    }
   ],
   "source": [
    "for input_example_batch, target_example_batch in dataset.take(1):\n",
    "    example_batch_predictions = model(input_example_batch)\n",
    "    print(example_batch_predictions.shape)"
   ]
  },
  {
   "cell_type": "code",
   "execution_count": 22,
   "metadata": {},
   "outputs": [
    {
     "name": "stdout",
     "output_type": "stream",
     "text": [
      "Model: \"sequential\"\n",
      "_________________________________________________________________\n",
      "Layer (type)                 Output Shape              Param #   \n",
      "=================================================================\n",
      "embedding (Embedding)        (64, None, 256)           16640     \n",
      "_________________________________________________________________\n",
      "lstm (LSTM)                  (64, None, 1024)          5246976   \n",
      "_________________________________________________________________\n",
      "dense (Dense)                (64, None, 65)            66625     \n",
      "=================================================================\n",
      "Total params: 5,330,241\n",
      "Trainable params: 5,330,241\n",
      "Non-trainable params: 0\n",
      "_________________________________________________________________\n"
     ]
    }
   ],
   "source": [
    "model.summary()"
   ]
  },
  {
   "cell_type": "code",
   "execution_count": 38,
   "metadata": {},
   "outputs": [
    {
     "data": {
      "text/plain": [
       "<tf.Tensor: shape=(100, 65), dtype=float32, numpy=\n",
       "array([[-0.00345868,  0.00580432,  0.00428756, ..., -0.00469717,\n",
       "         0.00302682,  0.00848159],\n",
       "       [ 0.00214205,  0.00093147, -0.0039704 , ..., -0.00661413,\n",
       "        -0.00372979,  0.00720337],\n",
       "       [-0.00344468,  0.00111368, -0.0040472 , ..., -0.00355963,\n",
       "         0.00033616,  0.00846841],\n",
       "       ...,\n",
       "       [ 0.00186549,  0.00215303,  0.00199312, ..., -0.0110195 ,\n",
       "         0.00083113,  0.00725814],\n",
       "       [-0.00056774,  0.00623655,  0.00254553, ..., -0.01521521,\n",
       "        -0.00267771,  0.00756258],\n",
       "       [-0.0032464 ,  0.00418563,  0.00081967, ..., -0.00739336,\n",
       "         0.00260251,  0.00831849]], dtype=float32)>"
      ]
     },
     "execution_count": 38,
     "metadata": {},
     "output_type": "execute_result"
    }
   ],
   "source": [
    "example_batch_predictions[0]"
   ]
  },
  {
   "cell_type": "code",
   "execution_count": 39,
   "metadata": {},
   "outputs": [
    {
     "data": {
      "text/plain": [
       "array([ 6, 37, 61, 61, 61, 30, 59, 31,  0, 34, 44,  2,  2, 58, 23,  8, 14,\n",
       "        9, 47, 39, 31, 41, 55, 13, 11, 57, 26,  8, 15, 48,  0, 11,  8, 33,\n",
       "       34, 45, 20, 45, 59, 32, 33, 32, 39, 52, 58, 36, 41,  6, 41,  4, 20,\n",
       "       60, 11, 26, 14, 14, 60,  8, 37, 43, 17, 12, 11, 57, 16, 26, 24,  3,\n",
       "       37, 62, 23, 49, 30, 11, 45, 12, 22, 20, 32,  1,  3, 40, 19, 25, 55,\n",
       "       44, 18, 51, 10,  1, 53, 64, 59, 30, 50,  9, 26, 37, 54, 17])"
      ]
     },
     "execution_count": 39,
     "metadata": {},
     "output_type": "execute_result"
    }
   ],
   "source": [
    "sampled_indices"
   ]
  },
  {
   "cell_type": "code",
   "execution_count": 24,
   "metadata": {},
   "outputs": [
    {
     "name": "stdout",
     "output_type": "stream",
     "text": [
      "(100, 1)\n",
      "(100,)\n"
     ]
    }
   ],
   "source": [
    "sampled_indices = tf.random.categorical(example_batch_predictions[0], num_samples=1)\n",
    "print(sampled_indices.shape)\n",
    "sampled_indices = tf.squeeze(sampled_indices, axis=-1).numpy()\n",
    "print(sampled_indices.shape)"
   ]
  },
  {
   "cell_type": "code",
   "execution_count": 25,
   "metadata": {},
   "outputs": [
    {
     "data": {
      "text/plain": [
       "array([ 6, 37, 61, 61, 61, 30, 59, 31,  0, 34, 44,  2,  2, 58, 23,  8, 14,\n",
       "        9, 47, 39, 31, 41, 55, 13, 11, 57, 26,  8, 15, 48,  0, 11,  8, 33,\n",
       "       34, 45, 20, 45, 59, 32, 33, 32, 39, 52, 58, 36, 41,  6, 41,  4, 20,\n",
       "       60, 11, 26, 14, 14, 60,  8, 37, 43, 17, 12, 11, 57, 16, 26, 24,  3,\n",
       "       37, 62, 23, 49, 30, 11, 45, 12, 22, 20, 32,  1,  3, 40, 19, 25, 55,\n",
       "       44, 18, 51, 10,  1, 53, 64, 59, 30, 50,  9, 26, 37, 54, 17])"
      ]
     },
     "execution_count": 25,
     "metadata": {},
     "output_type": "execute_result"
    }
   ],
   "source": [
    "sampled_indices"
   ]
  },
  {
   "cell_type": "code",
   "execution_count": 27,
   "metadata": {},
   "outputs": [
    {
     "name": "stdout",
     "output_type": "stream",
     "text": [
      "',YwwwRuS\\nVf!!tK.B3iaScqA;sN.Cj\\n;.UVgHguTUTantXc,c&Hv;NBBv.YeE?;sDNL$YxKkR;g?JHT $bGMqfFm: ozuRl3NYpE'\n"
     ]
    }
   ],
   "source": [
    "print(repr(\"\".join(idx2char[sampled_indices])))"
   ]
  },
  {
   "cell_type": "code",
   "execution_count": 28,
   "metadata": {},
   "outputs": [
    {
     "name": "stdout",
     "output_type": "stream",
     "text": [
      "(64, 100, 65)\n",
      "4.173069\n"
     ]
    }
   ],
   "source": [
    "def loss(labels, logits):\n",
    "    return tf.keras.losses.sparse_categorical_crossentropy(labels, logits, from_logits=True)\n",
    "\n",
    "example_batch_loss = loss(target_example_batch, example_batch_predictions)\n",
    "print(example_batch_predictions.shape)\n",
    "print(example_batch_loss.numpy().mean())"
   ]
  },
  {
   "cell_type": "code",
   "execution_count": 30,
   "metadata": {},
   "outputs": [
    {
     "data": {
      "text/plain": [
       "TensorShape([64, 100])"
      ]
     },
     "execution_count": 30,
     "metadata": {},
     "output_type": "execute_result"
    }
   ],
   "source": [
    "example_batch_loss.shape"
   ]
  },
  {
   "cell_type": "code",
   "execution_count": 31,
   "metadata": {},
   "outputs": [],
   "source": [
    "model.compile(optimizer='adam', loss=loss)"
   ]
  },
  {
   "cell_type": "code",
   "execution_count": 32,
   "metadata": {},
   "outputs": [],
   "source": [
    "checkpoint_dir = './training_checkpoints'\n",
    "\n",
    "checkpoint_prefix = os.path.join(checkpoint_dir, \"ckpt_{epoch}\")\n",
    "\n",
    "checkpoint_callback = tf.keras.callbacks.ModelCheckpoint(\n",
    "    filepath=checkpoint_prefix,\n",
    "    save_weights_only=True)"
   ]
  },
  {
   "cell_type": "code",
   "execution_count": 33,
   "metadata": {},
   "outputs": [
    {
     "name": "stdout",
     "output_type": "stream",
     "text": [
      "Epoch 1/10\n",
      "172/172 [==============================] - 7s 42ms/step - loss: 2.6094\n",
      "Epoch 2/10\n",
      "172/172 [==============================] - 7s 42ms/step - loss: 1.9071\n",
      "Epoch 3/10\n",
      "172/172 [==============================] - 7s 42ms/step - loss: 1.6559\n",
      "Epoch 4/10\n",
      "172/172 [==============================] - 7s 42ms/step - loss: 1.5184\n",
      "Epoch 5/10\n",
      "172/172 [==============================] - 7s 42ms/step - loss: 1.4343\n",
      "Epoch 6/10\n",
      "172/172 [==============================] - 7s 42ms/step - loss: 1.3771\n",
      "Epoch 7/10\n",
      "172/172 [==============================] - 7s 42ms/step - loss: 1.3312\n",
      "Epoch 8/10\n",
      "172/172 [==============================] - 7s 42ms/step - loss: 1.2929\n",
      "Epoch 9/10\n",
      "172/172 [==============================] - 7s 42ms/step - loss: 1.2575\n",
      "Epoch 10/10\n",
      "172/172 [==============================] - 7s 42ms/step - loss: 1.2237\n"
     ]
    }
   ],
   "source": [
    "EPOCHS = 10\n",
    "\n",
    "history = model.fit(dataset, epochs=EPOCHS, callbacks=[checkpoint_callback])"
   ]
  },
  {
   "cell_type": "code",
   "execution_count": 34,
   "metadata": {},
   "outputs": [
    {
     "data": {
      "text/plain": [
       "'./training_checkpoints/ckpt_10'"
      ]
     },
     "execution_count": 34,
     "metadata": {},
     "output_type": "execute_result"
    }
   ],
   "source": [
    "tf.train.latest_checkpoint(checkpoint_dir)"
   ]
  },
  {
   "cell_type": "code",
   "execution_count": 35,
   "metadata": {},
   "outputs": [
    {
     "name": "stdout",
     "output_type": "stream",
     "text": [
      "Model: \"sequential\"\n",
      "_________________________________________________________________\n",
      "Layer (type)                 Output Shape              Param #   \n",
      "=================================================================\n",
      "embedding (Embedding)        (64, None, 256)           16640     \n",
      "_________________________________________________________________\n",
      "lstm (LSTM)                  (64, None, 1024)          5246976   \n",
      "_________________________________________________________________\n",
      "dense (Dense)                (64, None, 65)            66625     \n",
      "=================================================================\n",
      "Total params: 5,330,241\n",
      "Trainable params: 5,330,241\n",
      "Non-trainable params: 0\n",
      "_________________________________________________________________\n"
     ]
    }
   ],
   "source": [
    "model.summary()"
   ]
  },
  {
   "cell_type": "code",
   "execution_count": 36,
   "metadata": {},
   "outputs": [],
   "source": [
    "model = build_model(vocab_size, embedding_dim, rnn_units, batch_size=1)\n",
    "\n",
    "model.load_weights(tf.train.latest_checkpoint(checkpoint_dir))\n",
    "\n",
    "model.build(tf.TensorShape([1, None]))"
   ]
  },
  {
   "cell_type": "code",
   "execution_count": 37,
   "metadata": {},
   "outputs": [
    {
     "name": "stdout",
     "output_type": "stream",
     "text": [
      "Model: \"sequential_1\"\n",
      "_________________________________________________________________\n",
      "Layer (type)                 Output Shape              Param #   \n",
      "=================================================================\n",
      "embedding_1 (Embedding)      (1, None, 256)            16640     \n",
      "_________________________________________________________________\n",
      "lstm_1 (LSTM)                (1, None, 1024)           5246976   \n",
      "_________________________________________________________________\n",
      "dense_1 (Dense)              (1, None, 65)             66625     \n",
      "=================================================================\n",
      "Total params: 5,330,241\n",
      "Trainable params: 5,330,241\n",
      "Non-trainable params: 0\n",
      "_________________________________________________________________\n"
     ]
    }
   ],
   "source": [
    "model.summary()"
   ]
  },
  {
   "cell_type": "code",
   "execution_count": 40,
   "metadata": {},
   "outputs": [],
   "source": [
    "def generate_text(model, start_string):\n",
    "    # 평가 단계 (학습된 모델을 사용하여 텍스트 생성)\n",
    "\n",
    "    # 생성할 문자의 수\n",
    "    num_generate = 1000\n",
    "\n",
    "    # 시작 문자열을 숫자로 변환(벡터화)\n",
    "    input_eval = [char2idx[s] for s in start_string]\n",
    "    input_eval = tf.expand_dims(input_eval, 0)\n",
    "\n",
    "    # 결과를 저장할 빈 문자열\n",
    "    text_generated = []\n",
    "\n",
    "    # 온도가 낮으면 더 예측 가능한 텍스트가 됩니다.\n",
    "    # 온도가 높으면 더 의외의 텍스트가 됩니다.\n",
    "    # 최적의 세팅을 찾기 위한 실험\n",
    "    temperature = 1.0\n",
    "\n",
    "    # 여기에서 배치 크기 == 1\n",
    "    model.reset_states()\n",
    "    for i in range(num_generate):\n",
    "        predictions = model(input_eval)\n",
    "        # 배치 차원 제거\n",
    "        predictions = tf.squeeze(predictions, 0)\n",
    "\n",
    "        # 범주형 분포를 사용하여 모델에서 리턴한 단어 예측\n",
    "        predictions = predictions / temperature\n",
    "        predicted_id = tf.random.categorical(predictions, num_samples=1)[-1,0].numpy()\n",
    "\n",
    "        # 예측된 단어를 다음 입력으로 모델에 전달\n",
    "        # 이전 은닉 상태와 함께\n",
    "        input_eval = tf.expand_dims([predicted_id], 0)\n",
    "\n",
    "        text_generated.append(idx2char[predicted_id])\n",
    "\n",
    "    return (start_string + ''.join(text_generated))"
   ]
  },
  {
   "cell_type": "code",
   "execution_count": 41,
   "metadata": {},
   "outputs": [
    {
     "name": "stdout",
     "output_type": "stream",
     "text": [
      "ROMEO: they say,\n",
      "or both I may.\n",
      "\n",
      "PROSPERO:\n",
      "He need made gone I not sat you now? I have\n",
      "A pardon nich an oppos possessed\n",
      "Against thou harst from yourselves;\n",
      "To fault how he was the general\n",
      "O' the LeEORENCE:\n",
      "I do learned a holy of a low;\n",
      "And will you not mean but with my father's swifl\n",
      "Sign of his chark o' the ladies, gaunts not\n",
      "with you.\n",
      "\n",
      "QUEEN ELIZABETH:\n",
      "Upon as Volscians: I will corn a\n",
      "sayet: if it presently be rule\n",
      "Of noble Gauch of Dian's whether:\n",
      "I cannot do, and if I let your block-way,\n",
      "anch I behold an althoke evil wings re up, sleep\n",
      "To be Tybll knee.\n",
      "\n",
      "FRETRUCHIO:\n",
      "Tut, I saw short; an his way will grant him.\n",
      "\n",
      "VILARDAANE:\n",
      "I must pircuse him to revenge him of the face,\n",
      "Nor when thou hast act to wime a man allow the crown?\n",
      "I lean to unsay you are too fair\n",
      "Trike wars.\n",
      "\n",
      "Servant:\n",
      "I am advised, but what's the exquest duked.\n",
      "\n",
      "Second Citizen:\n",
      "Well most I will, good nothing.\n",
      "Marry, then, look one that is some regal to them,\n",
      "Unkindly do no man to scorn Aares.\n",
      "\n",
      "PETRUCHIO:\n",
      "Tublish, Padua, Pompey. Pi\n"
     ]
    }
   ],
   "source": [
    "print(generate_text(model, start_string=u\"ROMEO: \"))"
   ]
  },
  {
   "cell_type": "code",
   "execution_count": 42,
   "metadata": {},
   "outputs": [],
   "source": [
    "model = build_model(\n",
    "  vocab_size = len(vocab),\n",
    "  embedding_dim=embedding_dim,\n",
    "  rnn_units=rnn_units,\n",
    "  batch_size=BATCH_SIZE)\n",
    "\n",
    "optimizer = tf.keras.optimizers.Adam()"
   ]
  },
  {
   "cell_type": "code",
   "execution_count": 43,
   "metadata": {},
   "outputs": [],
   "source": [
    "@tf.function\n",
    "def train_step(inp, target):\n",
    "    with tf.GradientTape() as tape:\n",
    "        predictions = model(inp)\n",
    "        loss = tf.reduce_mean(\n",
    "            tf.keras.losses.sparse_categorical_crossentropy(\n",
    "            target, predictions, from_logits=True))\n",
    "    grads = tape.gradient(loss, model.trainable_variables)\n",
    "    optimizer.apply_gradients(zip(grads, model.trainable_variables))\n",
    "    \n",
    "    return loss"
   ]
  },
  {
   "cell_type": "code",
   "execution_count": 44,
   "metadata": {},
   "outputs": [
    {
     "name": "stdout",
     "output_type": "stream",
     "text": [
      "epoch 1 batch 0 loss 4.17349100112915\n",
      "epoch 1 batch 100 loss 2.330228805541992\n",
      "에포크 1 손실 2.0812\n",
      "1 에포크 당 8.316502094268799초 소요\n",
      "\n",
      "epoch 2 batch 0 loss 2.106487512588501\n",
      "epoch 2 batch 100 loss 1.8289170265197754\n",
      "에포크 2 손실 1.7290\n",
      "1 에포크 당 7.497234582901001초 소요\n",
      "\n",
      "epoch 3 batch 0 loss 1.77058744430542\n",
      "epoch 3 batch 100 loss 1.5786494016647339\n",
      "에포크 3 손실 1.5419\n",
      "1 에포크 당 7.441206693649292초 소요\n",
      "\n",
      "epoch 4 batch 0 loss 1.5963642597198486\n",
      "epoch 4 batch 100 loss 1.5338521003723145\n",
      "에포크 4 손실 1.4496\n",
      "1 에포크 당 7.64025354385376초 소요\n",
      "\n",
      "epoch 5 batch 0 loss 1.4337985515594482\n",
      "epoch 5 batch 100 loss 1.4329538345336914\n",
      "에포크 5 손실 1.4005\n",
      "1 에포크 당 7.6407506465911865초 소요\n",
      "\n",
      "epoch 6 batch 0 loss 1.3625717163085938\n",
      "epoch 6 batch 100 loss 1.3529794216156006\n",
      "에포크 6 손실 1.3437\n",
      "1 에포크 당 7.525149345397949초 소요\n",
      "\n",
      "epoch 7 batch 0 loss 1.300917387008667\n",
      "epoch 7 batch 100 loss 1.3230106830596924\n",
      "에포크 7 손실 1.3162\n",
      "1 에포크 당 7.576035976409912초 소요\n",
      "\n",
      "epoch 8 batch 0 loss 1.27394700050354\n",
      "epoch 8 batch 100 loss 1.2997967004776\n",
      "에포크 8 손실 1.2850\n",
      "1 에포크 당 7.526022672653198초 소요\n",
      "\n",
      "epoch 9 batch 0 loss 1.237796664237976\n",
      "epoch 9 batch 100 loss 1.2994911670684814\n",
      "에포크 9 손실 1.2495\n",
      "1 에포크 당 7.526486158370972초 소요\n",
      "\n",
      "epoch 10 batch 0 loss 1.1832566261291504\n",
      "epoch 10 batch 100 loss 1.1882107257843018\n",
      "에포크 10 손실 1.2246\n",
      "1 에포크 당 7.669620752334595초 소요\n",
      "\n"
     ]
    }
   ],
   "source": [
    "EPOCHS = 10\n",
    "\n",
    "for epoch in range(EPOCHS):\n",
    "    start = time.time()\n",
    "    hidden = model.reset_states()\n",
    "    \n",
    "    for (batch_n, (inp, target)) in enumerate(dataset):\n",
    "        loss = train_step(inp, target)\n",
    "        \n",
    "        if batch_n % 100 == 0:\n",
    "            template = 'epoch {} batch {} loss {}'\n",
    "            print(template.format(epoch + 1, batch_n, loss))\n",
    "            \n",
    "    if (epoch + 1) % 5 == 0:\n",
    "        model.save_weights(checkpoint_prefix.format(epoch=epoch))\n",
    "        \n",
    "    print ('에포크 {} 손실 {:.4f}'.format(epoch+1, loss))\n",
    "    print ('1 에포크 당 {}초 소요\\n'.format(time.time() - start))\n",
    "    \n",
    "model.save_weights(checkpoint_prefix.format(epoch=epoch))"
   ]
  },
  {
   "cell_type": "code",
   "execution_count": 47,
   "metadata": {},
   "outputs": [
    {
     "name": "stdout",
     "output_type": "stream",
     "text": [
      "ROMEO: I'll bury, I think it switnell Thut can this:\n",
      "There are no store doubling forthtainsly rich in\n",
      "the people impress of Ricilene'full bourney\n",
      "Were he look'd to myself! so panity, nor now?\n",
      "Take him the cofe; I'll seem them iz, and never grie.\n",
      "\n",
      "BUCKINGHAM:\n",
      "It is not have been sucutited now:\n",
      "Speak on, let us shame of liberty, wive believed,\n",
      "Accountensed men.\n",
      "\n",
      "LUCIO:\n",
      "Well, gentle sirs,\n",
      "Where's a helfour mark, like England's crown.\n",
      "Did doom upon more beauty's love, but for this good\n",
      "King to approach into thy danger?\n",
      "O slave witnes to't, o'erless your cousperser;\n",
      "But now I will been time may make thee go.\n",
      "\n",
      "RUTLANIO:\n",
      "I never\n",
      "The engreaties like a tife.\n",
      "\n",
      "ISABELLA:\n",
      "If thou chear? it is! Look you shall possess.\n",
      "Some one is an your eyes o' the be:\n",
      "Move mine armour of my shame, dost book on your birth;\n",
      "A lord of Clarence, now thy wills delivered, untent\n",
      "it: and now I come, I speak but home,\n",
      "Accubment hold of yonour noble wails,\n",
      "With colouries of brief-tiged\n",
      "Till thou wilt come to me: Clarence? think \n"
     ]
    }
   ],
   "source": [
    "model = build_model(vocab_size, embedding_dim, rnn_units, batch_size=1)\n",
    "model.load_weights(tf.train.latest_checkpoint(checkpoint_dir))\n",
    "model.build(tf.TensorShape([1, None]))\n",
    "print(generate_text(model, start_string=u\"ROMEO: \"))"
   ]
  },
  {
   "cell_type": "code",
   "execution_count": 48,
   "metadata": {
    "scrolled": true
   },
   "outputs": [
    {
     "name": "stdout",
     "output_type": "stream",
     "text": [
      "epoch 1 batch 0 loss 1.1109122037887573\n",
      "epoch 1 batch 100 loss 1.2117351293563843\n",
      "에포크 1 손실 1.2207\n",
      "1 에포크 당 7.649111986160278초 소요\n",
      "\n",
      "epoch 2 batch 0 loss 1.1149808168411255\n",
      "epoch 2 batch 100 loss 1.1696817874908447\n",
      "에포크 2 손실 1.2061\n",
      "1 에포크 당 7.633092641830444초 소요\n",
      "\n",
      "epoch 3 batch 0 loss 1.0897119045257568\n",
      "epoch 3 batch 100 loss 1.1215019226074219\n",
      "에포크 3 손실 1.1509\n",
      "1 에포크 당 7.685880184173584초 소요\n",
      "\n",
      "epoch 4 batch 0 loss 1.0361850261688232\n",
      "epoch 4 batch 100 loss 1.1062809228897095\n",
      "에포크 4 손실 1.0733\n",
      "1 에포크 당 7.5650529861450195초 소요\n",
      "\n",
      "epoch 5 batch 0 loss 1.0132596492767334\n",
      "epoch 5 batch 100 loss 1.0301814079284668\n",
      "에포크 5 손실 1.0256\n",
      "1 에포크 당 7.60781192779541초 소요\n",
      "\n",
      "epoch 6 batch 0 loss 0.9877865314483643\n",
      "epoch 6 batch 100 loss 1.0196856260299683\n",
      "에포크 6 손실 1.0227\n",
      "1 에포크 당 7.67925238609314초 소요\n",
      "\n",
      "epoch 7 batch 0 loss 0.927582859992981\n",
      "epoch 7 batch 100 loss 0.9689609408378601\n",
      "에포크 7 손실 1.0065\n",
      "1 에포크 당 7.72675895690918초 소요\n",
      "\n",
      "epoch 8 batch 0 loss 0.8837587237358093\n",
      "epoch 8 batch 100 loss 0.9384923577308655\n",
      "에포크 8 손실 0.9527\n",
      "1 에포크 당 7.75535249710083초 소요\n",
      "\n",
      "epoch 9 batch 0 loss 0.8426446318626404\n",
      "epoch 9 batch 100 loss 0.8946124315261841\n",
      "에포크 9 손실 0.9254\n",
      "1 에포크 당 7.884237051010132초 소요\n",
      "\n",
      "epoch 10 batch 0 loss 0.8017281889915466\n",
      "epoch 10 batch 100 loss 0.8489378094673157\n",
      "에포크 10 손실 0.8953\n",
      "1 에포크 당 7.662266254425049초 소요\n",
      "\n",
      "epoch 11 batch 0 loss 0.7783169746398926\n",
      "epoch 11 batch 100 loss 0.7951599359512329\n",
      "에포크 11 손실 0.8554\n",
      "1 에포크 당 7.631000280380249초 소요\n",
      "\n",
      "epoch 12 batch 0 loss 0.7223233580589294\n",
      "epoch 12 batch 100 loss 0.7653098106384277\n",
      "에포크 12 손실 0.8042\n",
      "1 에포크 당 7.654574155807495초 소요\n",
      "\n",
      "epoch 13 batch 0 loss 0.7271504998207092\n",
      "epoch 13 batch 100 loss 0.7244058847427368\n",
      "에포크 13 손실 0.7900\n",
      "1 에포크 당 7.542072772979736초 소요\n",
      "\n",
      "epoch 14 batch 0 loss 0.6714881062507629\n",
      "epoch 14 batch 100 loss 0.7075045704841614\n",
      "에포크 14 손실 0.7332\n",
      "1 에포크 당 7.627094745635986초 소요\n",
      "\n",
      "epoch 15 batch 0 loss 0.6352719664573669\n",
      "epoch 15 batch 100 loss 0.6793724298477173\n",
      "에포크 15 손실 0.7382\n",
      "1 에포크 당 7.658987045288086초 소요\n",
      "\n",
      "epoch 16 batch 0 loss 0.6434232592582703\n",
      "epoch 16 batch 100 loss 0.6643284559249878\n",
      "에포크 16 손실 0.6997\n",
      "1 에포크 당 7.75964617729187초 소요\n",
      "\n",
      "epoch 17 batch 0 loss 0.5951005816459656\n",
      "epoch 17 batch 100 loss 0.6469433307647705\n",
      "에포크 17 손실 0.6712\n",
      "1 에포크 당 7.695739507675171초 소요\n",
      "\n",
      "epoch 18 batch 0 loss 0.5689179301261902\n",
      "epoch 18 batch 100 loss 0.6305477023124695\n",
      "에포크 18 손실 0.6538\n",
      "1 에포크 당 7.623945713043213초 소요\n",
      "\n",
      "epoch 19 batch 0 loss 0.5517564415931702\n",
      "epoch 19 batch 100 loss 0.6082824468612671\n",
      "에포크 19 손실 0.6374\n",
      "1 에포크 당 7.669460773468018초 소요\n",
      "\n",
      "epoch 20 batch 0 loss 0.5469177961349487\n",
      "epoch 20 batch 100 loss 0.5963598489761353\n",
      "에포크 20 손실 0.5822\n",
      "1 에포크 당 7.899844408035278초 소요\n",
      "\n",
      "epoch 21 batch 0 loss 0.5445678234100342\n",
      "epoch 21 batch 100 loss 0.5489925146102905\n",
      "에포크 21 손실 0.5867\n",
      "1 에포크 당 7.757714509963989초 소요\n",
      "\n",
      "epoch 22 batch 0 loss 0.523665726184845\n",
      "epoch 22 batch 100 loss 0.5581194162368774\n",
      "에포크 22 손실 0.6002\n",
      "1 에포크 당 7.832479476928711초 소요\n",
      "\n",
      "epoch 23 batch 0 loss 0.5123038291931152\n",
      "epoch 23 batch 100 loss 0.5604801774024963\n",
      "에포크 23 손실 0.5721\n",
      "1 에포크 당 7.687775373458862초 소요\n",
      "\n",
      "epoch 24 batch 0 loss 0.5001199245452881\n",
      "epoch 24 batch 100 loss 0.521956205368042\n",
      "에포크 24 손실 0.5890\n",
      "1 에포크 당 7.630760669708252초 소요\n",
      "\n",
      "epoch 25 batch 0 loss 0.47849708795547485\n",
      "epoch 25 batch 100 loss 0.5224325060844421\n",
      "에포크 25 손실 0.5501\n",
      "1 에포크 당 7.661079168319702초 소요\n",
      "\n",
      "epoch 26 batch 0 loss 0.48198235034942627\n",
      "epoch 26 batch 100 loss 0.5047509074211121\n",
      "에포크 26 손실 0.5390\n",
      "1 에포크 당 7.693677186965942초 소요\n",
      "\n",
      "epoch 27 batch 0 loss 0.4418133497238159\n",
      "epoch 27 batch 100 loss 0.4714359939098358\n",
      "에포크 27 손실 0.5194\n",
      "1 에포크 당 7.830706357955933초 소요\n",
      "\n",
      "epoch 28 batch 0 loss 0.46738457679748535\n",
      "epoch 28 batch 100 loss 0.5065200328826904\n",
      "에포크 28 손실 0.5170\n",
      "1 에포크 당 7.781275987625122초 소요\n",
      "\n",
      "epoch 29 batch 0 loss 0.43209707736968994\n",
      "epoch 29 batch 100 loss 0.4703027606010437\n",
      "에포크 29 손실 0.5287\n",
      "1 에포크 당 7.667233228683472초 소요\n",
      "\n",
      "epoch 30 batch 0 loss 0.4344392716884613\n",
      "epoch 30 batch 100 loss 0.48945578932762146\n",
      "에포크 30 손실 0.4892\n",
      "1 에포크 당 7.707025766372681초 소요\n",
      "\n"
     ]
    }
   ],
   "source": [
    "EPOCHS = 30\n",
    "\n",
    "for epoch in range(EPOCHS):\n",
    "    start = time.time()\n",
    "    hidden = model.reset_states()\n",
    "    \n",
    "    for (batch_n, (inp, target)) in enumerate(dataset):\n",
    "        loss = train_step(inp, target)\n",
    "        \n",
    "        if batch_n % 100 == 0:\n",
    "            template = 'epoch {} batch {} loss {}'\n",
    "            print(template.format(epoch + 1, batch_n, loss))\n",
    "            \n",
    "    if (epoch + 1) % 5 == 0:\n",
    "        model.save_weights(checkpoint_prefix.format(epoch=epoch))\n",
    "        \n",
    "    print ('에포크 {} 손실 {:.4f}'.format(epoch+1, loss))\n",
    "    print ('1 에포크 당 {}초 소요\\n'.format(time.time() - start))\n",
    "    \n",
    "model.save_weights(checkpoint_prefix.format(epoch=epoch))"
   ]
  },
  {
   "cell_type": "code",
   "execution_count": 50,
   "metadata": {},
   "outputs": [
    {
     "name": "stdout",
     "output_type": "stream",
     "text": [
      "ROMEO: I\n",
      "Think for I for wile untly statuee upon\n",
      "Of death and rotten sister of my council: and then currents\n",
      "Our roser: how they setting that you pluck\n",
      "Your cold commanmed to him?\n",
      "\n",
      "ANTONIO:\n",
      "Well, Signior Gremio!\n",
      "\n",
      "PARDINA:\n",
      "Sir, a while, do so?\n",
      "\n",
      "AUFIDIUS:\n",
      "Mark'd you this instrument,\n",
      "With pute must kies unhappier of vewnry.\n",
      "The castles shempel blushing glass partic,\n",
      "That, Pompey number wander of this love,\n",
      "And that may reason him, I have been\n",
      "As dring a citizease Inelful baggance.\n",
      "Thy trareful lambs I cannot rule.\n",
      "\n",
      "ROMEO:\n",
      "My lord,\n",
      "It boy'd to melt, the whoe are quainted that fith you!\n",
      "Afflicts, here to hims my lord wives right:\n",
      "Thou couldst upon her, for my death we heard.\n",
      "\n",
      "LADY GREY:\n",
      "Where are the which, and the earth with him, I say: therefore, though we't\n",
      "Haste apperial bulks, puts to your hand, without sorrow,\n",
      "Tor mounty man to die, and have with'd before: I will: what\n",
      "Was my tongue fulling ost of such as a from mouth o'clock?\n",
      "\n",
      "KING RICHARD IIA:\n",
      "Your Musterer, I did not rouse again.\n",
      "\n",
      "First S\n"
     ]
    }
   ],
   "source": [
    "model = build_model(vocab_size, embedding_dim, rnn_units, batch_size=1)\n",
    "model.load_weights(tf.train.latest_checkpoint(checkpoint_dir))\n",
    "model.build(tf.TensorShape([1, None]))\n",
    "print(generate_text(model, start_string=u\"ROMEO: \"))"
   ]
  },
  {
   "cell_type": "code",
   "execution_count": 51,
   "metadata": {},
   "outputs": [
    {
     "name": "stdout",
     "output_type": "stream",
     "text": [
      "ROMEO: when I\n",
      "gaily world? and you have more greater of venteance, day, nor I can\n",
      "then in the cause I am to crow for no most;\n",
      "And, nor no jest.\n",
      "\n",
      "PETRUCHIO:\n",
      "Good must be no borve hither by the devilder,\n",
      "Creet Menenius.\n",
      "\n",
      "Mostague, and first till case from hate\n",
      "And met the tyren of Rome.\n",
      "\n",
      "JOKN OF GAUNT:\n",
      "But how you have we themen, whose content me down?\n",
      "\n",
      "KING EDWARD IV:\n",
      "Naw, madraws are gone; and would young witness for ever\n",
      "coll and rule, was a loss and contenanced was't.\n",
      "\n",
      "Third Gentleman:\n",
      "Unread our great days?\n",
      "I kids to queat Godfolk, Signior Gremio;\n",
      "I shall not bad any certail of the\n",
      "nambling footth so faster;' 'Me swelt so,\n",
      "And you, my lord, thy life did scept to 't.\n",
      "Now, mistress cousin and to sleep aidsh\n",
      "In stofy one: O, all what to Warwick?\n",
      "\n",
      "JULIET:\n",
      "You shall, emprished me\n",
      "But yether lord, I'll bring thee thine eyes.\n",
      "\n",
      "JOHN OF GAUNT:\n",
      "Thou art good Ratharn'd thought the Strives i' them;\n",
      "And thou hollonger for what we thee ' made word 'banished,'\n",
      "And such welcome, depry, and any white our h\n"
     ]
    }
   ],
   "source": [
    "print(generate_text(model, start_string=u\"ROMEO: \"))"
   ]
  }
 ],
 "metadata": {
  "kernelspec": {
   "display_name": "Python 3",
   "language": "python",
   "name": "python3"
  },
  "language_info": {
   "codemirror_mode": {
    "name": "ipython",
    "version": 3
   },
   "file_extension": ".py",
   "mimetype": "text/x-python",
   "name": "python",
   "nbconvert_exporter": "python",
   "pygments_lexer": "ipython3",
   "version": "3.6.9"
  }
 },
 "nbformat": 4,
 "nbformat_minor": 2
}
